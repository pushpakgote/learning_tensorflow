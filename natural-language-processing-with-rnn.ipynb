{
 "cells": [
  {
   "cell_type": "markdown",
   "id": "1402087a",
   "metadata": {
    "papermill": {
     "duration": 0.014471,
     "end_time": "2022-09-03T07:26:33.462108",
     "exception": false,
     "start_time": "2022-09-03T07:26:33.447637",
     "status": "completed"
    },
    "tags": []
   },
   "source": [
    "## Reference\n",
    "\n",
    "Module 2: Introduction to TensorFlow - https://colab.research.google.com/drive/1F_EWVKa8rbMXi3_fG0w7AtcscFq7Hi7B#forceEdit=true&sandboxMode=true\n",
    "<br>📗 Module 3: Core Learning Algorithms - https://colab.research.google.com/drive/15Cyy2H7nT40sGR7TBN5wBvgTd57mVKay#forceEdit=true&sandboxMode=true\n",
    "<br>📘 Module 4: Neural Networks with TensorFlow -   \n",
    "https://colab.research.google.com/drive/1m2cg3D1x3j5vrFc-Cu0gMvc48gWyCOuG#forceEdit=true&sandboxMode=true\n",
    "<br>📙 Module 5: Deep Computer Vision - https://colab.research.google.com/drive/1ZZXnCjFEOkp_KdNcNabd14yok0BAIuwS#forceEdit=true&sandboxMode=true\n",
    "<br>📔 Module 6: Natural Language Processing with RNNs -  https://colab.research.google.com/drive/1ysEKrw_LE2jMndo1snrZUh5w87LQsCxk#forceEdit=true&sandboxMode=true\n",
    "<br>📒 Module 7: Reinforcement Learning - https://colab.research.google.com/drive/1IlrlS3bB8t1Gd5Pogol4MIwUxlAjhWOQ#forceEdit=true&sandboxMode=true\n"
   ]
  },
  {
   "cell_type": "markdown",
   "id": "31a920f3",
   "metadata": {
    "papermill": {
     "duration": 0.012266,
     "end_time": "2022-09-03T07:26:33.487105",
     "exception": false,
     "start_time": "2022-09-03T07:26:33.474839",
     "status": "completed"
    },
    "tags": []
   },
   "source": [
    "# Natural Language Processing \n",
    "Natural Language Processing (or NLP for short) is a discipline in computing that deals with the communication between natural (human) languages and computer languages. A common example of NLP is something like spellcheck or autocomplete. Essentially NLP is the field that focuses on how computers can understand and/or process natural/human languages. \n",
    "\n",
    "### Recurrent Neural Networks\n",
    "\n",
    "In this tutorial we will introduce a new kind of neural network that is much more capable of processing sequential data such as text or characters called a **recurrent neural network** (RNN for short). \n",
    "\n",
    "We will learn how to use a reccurent neural network to do the following:\n",
    "- Sentiment Analysis\n",
    "- Character Generation \n",
    "\n",
    "RNN's are complex and come in many different forms so in this tutorial we wil focus on how they work and the kind of problems they are best suited for.\n",
    "\n"
   ]
  },
  {
   "cell_type": "markdown",
   "id": "94f2d143",
   "metadata": {
    "papermill": {
     "duration": 0.012037,
     "end_time": "2022-09-03T07:26:33.513284",
     "exception": false,
     "start_time": "2022-09-03T07:26:33.501247",
     "status": "completed"
    },
    "tags": []
   },
   "source": [
    "### 1. Bag of words\n",
    "Just store frequency of words, not order\n",
    "\n",
    "### 2. Word Embedding\n",
    " This method keeps the order of words intact as well as encodes similar words with very similar labels. It attempts to not only encode the frequency and order of words but the meaning of those words in the sentence. It encodes each word as a dense vector that represents its context in the sentence."
   ]
  },
  {
   "cell_type": "markdown",
   "id": "d63bc72f",
   "metadata": {
    "papermill": {
     "duration": 0.011835,
     "end_time": "2022-09-03T07:26:33.536925",
     "exception": false,
     "start_time": "2022-09-03T07:26:33.525090",
     "status": "completed"
    },
    "tags": []
   },
   "source": [
    "## Recurrent Neural Networks (RNN's)\n",
    "Now that we've learned a little bit about how we can encode text it's time to dive into recurrent neural networks. Up until this point we have been using something called **feed-forward** neural networks. This simply means that all our data is fed forwards (all at once) from left to right through the network. This was fine for the problems we considered before but won't work very well for processing text. After all, even we (humans) don't process text all at once. We read word by word from left to right and keep track of the current meaning of the sentence so we can understand the meaning of the next word. Well this is exaclty what a recurrent neural network is designed to do. When we say recurrent neural network all we really mean is a network that contains a loop. A RNN will process one word at a time while maintaining an internal memory of what it's already seen. This will allow it to treat words differently based on their order in a sentence and to slowly build an understanding of the entire input, one word at a time.\n",
    "\n",
    "This is why we are treating our text data as a sequence! So that we can pass one word at a time to the RNN.\n",
    "\n",
    "Let's have a look at what a recurrent layer might look like.\n",
    "\n",
    "![alt text](https://colah.github.io/posts/2015-08-Understanding-LSTMs/img/RNN-unrolled.png)\n",
    "*Source: https://colah.github.io/posts/2015-08-Understanding-LSTMs/*\n",
    "\n",
    "Let's define what all these variables stand for before we get into the explination.\n",
    "\n",
    "**h<sub>t</sub>** output at time t\n",
    "\n",
    "**x<sub>t</sub>** input at time t\n",
    "\n",
    "**A** Recurrent Layer (loop)\n",
    "\n",
    "What this diagram is trying to illustrate is that a recurrent layer processes words or input one at a time in a combination with the output from the previous iteration. So, as we progress further in the input sequence, we build a more complex understanding of the text as a whole.\n",
    "\n",
    "What we've just looked at is called a **simple RNN layer**. It can be effective at processing shorter sequences of text for simple problems but has many downfalls associated with it. One of them being the fact that as text sequences get longer it gets increasingly difficult for the network to understand the text properly.\n",
    "\n"
   ]
  },
  {
   "cell_type": "markdown",
   "id": "76772299",
   "metadata": {
    "papermill": {
     "duration": 0.012357,
     "end_time": "2022-09-03T07:26:33.561574",
     "exception": false,
     "start_time": "2022-09-03T07:26:33.549217",
     "status": "completed"
    },
    "tags": []
   },
   "source": [
    "## LSTM\n",
    "The layer we dicussed in depth above was called a *simpleRNN*. However, there does exist some other recurrent layers (layers that contain a loop) that work much better than a simple RNN layer. The one we will talk about here is called LSTM (Long Short-Term Memory). This layer works very similarily to the simpleRNN layer but adds a way to access inputs from any timestep in the past. Whereas in our simple RNN layer input from previous timestamps gradually disappeared as we got further through the input. With a LSTM we have a long-term memory data structure storing all the previously seen inputs as well as when we saw them. This allows for us to access any previous value we want at any point in time. This adds to the complexity of our network and allows it to discover more useful relationships between inputs and when they appear. \n",
    "\n",
    "For the purpose of this course we will refrain from going any further into the math or details behind how these layers work.\n",
    "\n"
   ]
  },
  {
   "cell_type": "markdown",
   "id": "539bfb85",
   "metadata": {
    "papermill": {
     "duration": 0.012181,
     "end_time": "2022-09-03T07:26:33.585786",
     "exception": false,
     "start_time": "2022-09-03T07:26:33.573605",
     "status": "completed"
    },
    "tags": []
   },
   "source": [
    "## Sentiment Analysis\n",
    "And now time to see a recurrent neural network in action. For this example, we are going to do something called sentiment analysis.\n",
    "\n",
    "The formal definition of this term from Wikipedia is as follows:\n",
    "\n",
    "*the process of computationally identifying and categorizing opinions expressed in a piece of text, especially in order to determine whether the writer's attitude towards a particular topic, product, etc. is positive, negative, or neutral.*\n",
    "\n",
    "The example we’ll use here is classifying movie reviews as either postive, negative or neutral.\n",
    "\n",
    "*This guide is based on the following tensorflow tutorial: https://www.tensorflow.org/tutorials/text/text_classification_rnn*\n",
    "\n"
   ]
  },
  {
   "cell_type": "markdown",
   "id": "f20c6dc7",
   "metadata": {
    "papermill": {
     "duration": 0.011471,
     "end_time": "2022-09-03T07:26:33.608695",
     "exception": false,
     "start_time": "2022-09-03T07:26:33.597224",
     "status": "completed"
    },
    "tags": []
   },
   "source": [
    "### Movie Review Dataset\n",
    "Well start by loading in the IMDB movie review dataset from keras. This dataset contains 25,000 reviews from IMDB where each one is already preprocessed and has a label as either positive or negative. Each review is encoded by integers that represents how common a word is in the entire dataset. For example, a word encoded by the integer 3 means that it is the 3rd most common word in the dataset.\n",
    " \n",
    "\n",
    "\n"
   ]
  },
  {
   "cell_type": "code",
   "execution_count": 1,
   "id": "f617a6c1",
   "metadata": {
    "_cell_guid": "b1076dfc-b9ad-4769-8c92-a6c4dae69d19",
    "_uuid": "8f2839f25d086af736a60e9eeb907d3b93b6e0e5",
    "execution": {
     "iopub.execute_input": "2022-09-03T07:26:33.639086Z",
     "iopub.status.busy": "2022-09-03T07:26:33.638146Z",
     "iopub.status.idle": "2022-09-03T07:26:43.700462Z",
     "shell.execute_reply": "2022-09-03T07:26:43.699468Z"
    },
    "papermill": {
     "duration": 10.08247,
     "end_time": "2022-09-03T07:26:43.703086",
     "exception": false,
     "start_time": "2022-09-03T07:26:33.620616",
     "status": "completed"
    },
    "tags": []
   },
   "outputs": [
    {
     "name": "stdout",
     "output_type": "stream",
     "text": [
      "Downloading data from https://storage.googleapis.com/tensorflow/tf-keras-datasets/imdb.npz\n",
      "17465344/17464789 [==============================] - 0s 0us/step\n",
      "17473536/17464789 [==============================] - 0s 0us/step\n"
     ]
    }
   ],
   "source": [
    "\n",
    "from keras.datasets import imdb\n",
    "from keras.preprocessing import sequence\n",
    "import keras\n",
    "import tensorflow as tf\n",
    "import os\n",
    "import numpy as np\n",
    "\n",
    "VOCAB_SIZE = 88584\n",
    "\n",
    "MAXLEN = 250\n",
    "BATCH_SIZE = 64\n",
    "\n",
    "(train_data, train_labels), (test_data, test_labels) = imdb.load_data(num_words = VOCAB_SIZE)"
   ]
  },
  {
   "cell_type": "code",
   "execution_count": 2,
   "id": "a2a20495",
   "metadata": {
    "execution": {
     "iopub.execute_input": "2022-09-03T07:26:43.731721Z",
     "iopub.status.busy": "2022-09-03T07:26:43.731099Z",
     "iopub.status.idle": "2022-09-03T07:26:43.740225Z",
     "shell.execute_reply": "2022-09-03T07:26:43.739167Z"
    },
    "papermill": {
     "duration": 0.027034,
     "end_time": "2022-09-03T07:26:43.742812",
     "exception": false,
     "start_time": "2022-09-03T07:26:43.715778",
     "status": "completed"
    },
    "tags": []
   },
   "outputs": [
    {
     "data": {
      "text/plain": [
       "189"
      ]
     },
     "execution_count": 2,
     "metadata": {},
     "output_type": "execute_result"
    }
   ],
   "source": [
    "len(train_data[1])"
   ]
  },
  {
   "cell_type": "markdown",
   "id": "b694709b",
   "metadata": {
    "papermill": {
     "duration": 0.013068,
     "end_time": "2022-09-03T07:26:43.770022",
     "exception": false,
     "start_time": "2022-09-03T07:26:43.756954",
     "status": "completed"
    },
    "tags": []
   },
   "source": [
    "### More Preprocessing\n",
    "If we have a look at some of our loaded in reviews, we'll notice that they are different lengths. This is an issue. We cannot pass different length data into our neural network. Therefore, we must make each review the same length. To do this we will follow the procedure below:\n",
    "- if the review is greater than 250 words then trim off the extra words\n",
    "- if the review is less than 250 words add the necessary amount of 0's to make it equal to 250.\n",
    "\n",
    "Luckily for us keras has a function that can do this for us:\n",
    "\n",
    "\n"
   ]
  },
  {
   "cell_type": "code",
   "execution_count": 3,
   "id": "7ee6a488",
   "metadata": {
    "execution": {
     "iopub.execute_input": "2022-09-03T07:26:43.798207Z",
     "iopub.status.busy": "2022-09-03T07:26:43.797201Z",
     "iopub.status.idle": "2022-09-03T07:26:44.996193Z",
     "shell.execute_reply": "2022-09-03T07:26:44.995218Z"
    },
    "papermill": {
     "duration": 1.215425,
     "end_time": "2022-09-03T07:26:44.998906",
     "exception": false,
     "start_time": "2022-09-03T07:26:43.783481",
     "status": "completed"
    },
    "tags": []
   },
   "outputs": [],
   "source": [
    "train_data=sequence.pad_sequences(train_data,MAXLEN)\n",
    "test_data=sequence.pad_sequences(test_data,MAXLEN)"
   ]
  },
  {
   "cell_type": "code",
   "execution_count": 4,
   "id": "c43027d0",
   "metadata": {
    "execution": {
     "iopub.execute_input": "2022-09-03T07:26:45.038845Z",
     "iopub.status.busy": "2022-09-03T07:26:45.038332Z",
     "iopub.status.idle": "2022-09-03T07:26:45.049604Z",
     "shell.execute_reply": "2022-09-03T07:26:45.048775Z"
    },
    "papermill": {
     "duration": 0.033918,
     "end_time": "2022-09-03T07:26:45.052286",
     "exception": false,
     "start_time": "2022-09-03T07:26:45.018368",
     "status": "completed"
    },
    "tags": []
   },
   "outputs": [
    {
     "data": {
      "text/plain": [
       "250"
      ]
     },
     "execution_count": 4,
     "metadata": {},
     "output_type": "execute_result"
    }
   ],
   "source": [
    "len(train_data[1])"
   ]
  },
  {
   "cell_type": "markdown",
   "id": "38fa3595",
   "metadata": {
    "papermill": {
     "duration": 0.018976,
     "end_time": "2022-09-03T07:26:45.090750",
     "exception": false,
     "start_time": "2022-09-03T07:26:45.071774",
     "status": "completed"
    },
    "tags": []
   },
   "source": [
    "### Creating the Model\n",
    "Now it's time to create the model. We'll use a word embedding layer as the first layer in our model and add a LSTM layer afterwards that feeds into a dense node to get our predicted sentiment. \n",
    "\n",
    "32 stands for the output dimension of the vectors generated by the embedding layer. We can change this value if we'd like!"
   ]
  },
  {
   "cell_type": "code",
   "execution_count": 5,
   "id": "d06838f5",
   "metadata": {
    "execution": {
     "iopub.execute_input": "2022-09-03T07:26:45.131120Z",
     "iopub.status.busy": "2022-09-03T07:26:45.130697Z",
     "iopub.status.idle": "2022-09-03T07:26:48.715645Z",
     "shell.execute_reply": "2022-09-03T07:26:48.714641Z"
    },
    "papermill": {
     "duration": 3.608349,
     "end_time": "2022-09-03T07:26:48.718401",
     "exception": false,
     "start_time": "2022-09-03T07:26:45.110052",
     "status": "completed"
    },
    "tags": []
   },
   "outputs": [
    {
     "name": "stderr",
     "output_type": "stream",
     "text": [
      "2022-09-03 07:26:45.623383: I tensorflow/stream_executor/cuda/cuda_gpu_executor.cc:937] successful NUMA node read from SysFS had negative value (-1), but there must be at least one NUMA node, so returning NUMA node zero\n",
      "2022-09-03 07:26:45.771073: I tensorflow/stream_executor/cuda/cuda_gpu_executor.cc:937] successful NUMA node read from SysFS had negative value (-1), but there must be at least one NUMA node, so returning NUMA node zero\n",
      "2022-09-03 07:26:45.772346: I tensorflow/stream_executor/cuda/cuda_gpu_executor.cc:937] successful NUMA node read from SysFS had negative value (-1), but there must be at least one NUMA node, so returning NUMA node zero\n",
      "2022-09-03 07:26:45.773968: I tensorflow/core/platform/cpu_feature_guard.cc:142] This TensorFlow binary is optimized with oneAPI Deep Neural Network Library (oneDNN) to use the following CPU instructions in performance-critical operations:  AVX2 AVX512F FMA\n",
      "To enable them in other operations, rebuild TensorFlow with the appropriate compiler flags.\n",
      "2022-09-03 07:26:45.776627: I tensorflow/stream_executor/cuda/cuda_gpu_executor.cc:937] successful NUMA node read from SysFS had negative value (-1), but there must be at least one NUMA node, so returning NUMA node zero\n",
      "2022-09-03 07:26:45.777641: I tensorflow/stream_executor/cuda/cuda_gpu_executor.cc:937] successful NUMA node read from SysFS had negative value (-1), but there must be at least one NUMA node, so returning NUMA node zero\n",
      "2022-09-03 07:26:45.778731: I tensorflow/stream_executor/cuda/cuda_gpu_executor.cc:937] successful NUMA node read from SysFS had negative value (-1), but there must be at least one NUMA node, so returning NUMA node zero\n",
      "2022-09-03 07:26:48.020643: I tensorflow/stream_executor/cuda/cuda_gpu_executor.cc:937] successful NUMA node read from SysFS had negative value (-1), but there must be at least one NUMA node, so returning NUMA node zero\n",
      "2022-09-03 07:26:48.021568: I tensorflow/stream_executor/cuda/cuda_gpu_executor.cc:937] successful NUMA node read from SysFS had negative value (-1), but there must be at least one NUMA node, so returning NUMA node zero\n",
      "2022-09-03 07:26:48.022308: I tensorflow/stream_executor/cuda/cuda_gpu_executor.cc:937] successful NUMA node read from SysFS had negative value (-1), but there must be at least one NUMA node, so returning NUMA node zero\n",
      "2022-09-03 07:26:48.023024: I tensorflow/core/common_runtime/gpu/gpu_device.cc:1510] Created device /job:localhost/replica:0/task:0/device:GPU:0 with 15401 MB memory:  -> device: 0, name: Tesla P100-PCIE-16GB, pci bus id: 0000:00:04.0, compute capability: 6.0\n"
     ]
    }
   ],
   "source": [
    "model=tf.keras.Sequential([\n",
    "    tf.keras.layers.Embedding(VOCAB_SIZE,32),\n",
    "    tf.keras.layers.LSTM(32),\n",
    "    tf.keras.layers.Dense(1,activation='sigmoid')\n",
    "])"
   ]
  },
  {
   "cell_type": "code",
   "execution_count": 6,
   "id": "3e6aaf62",
   "metadata": {
    "execution": {
     "iopub.execute_input": "2022-09-03T07:26:48.753608Z",
     "iopub.status.busy": "2022-09-03T07:26:48.753190Z",
     "iopub.status.idle": "2022-09-03T07:26:48.761595Z",
     "shell.execute_reply": "2022-09-03T07:26:48.760664Z"
    },
    "papermill": {
     "duration": 0.025638,
     "end_time": "2022-09-03T07:26:48.763830",
     "exception": false,
     "start_time": "2022-09-03T07:26:48.738192",
     "status": "completed"
    },
    "tags": []
   },
   "outputs": [
    {
     "name": "stdout",
     "output_type": "stream",
     "text": [
      "Model: \"sequential\"\n",
      "_________________________________________________________________\n",
      "Layer (type)                 Output Shape              Param #   \n",
      "=================================================================\n",
      "embedding (Embedding)        (None, None, 32)          2834688   \n",
      "_________________________________________________________________\n",
      "lstm (LSTM)                  (None, 32)                8320      \n",
      "_________________________________________________________________\n",
      "dense (Dense)                (None, 1)                 33        \n",
      "=================================================================\n",
      "Total params: 2,843,041\n",
      "Trainable params: 2,843,041\n",
      "Non-trainable params: 0\n",
      "_________________________________________________________________\n"
     ]
    }
   ],
   "source": [
    "model.summary()"
   ]
  },
  {
   "cell_type": "code",
   "execution_count": 7,
   "id": "69ac8f6f",
   "metadata": {
    "execution": {
     "iopub.execute_input": "2022-09-03T07:26:48.792014Z",
     "iopub.status.busy": "2022-09-03T07:26:48.791639Z",
     "iopub.status.idle": "2022-09-03T07:28:03.732408Z",
     "shell.execute_reply": "2022-09-03T07:28:03.731103Z"
    },
    "papermill": {
     "duration": 74.957545,
     "end_time": "2022-09-03T07:28:03.735096",
     "exception": false,
     "start_time": "2022-09-03T07:26:48.777551",
     "status": "completed"
    },
    "tags": []
   },
   "outputs": [
    {
     "name": "stdout",
     "output_type": "stream",
     "text": [
      "Epoch 1/10\n"
     ]
    },
    {
     "name": "stderr",
     "output_type": "stream",
     "text": [
      "2022-09-03 07:26:48.864741: I tensorflow/compiler/mlir/mlir_graph_optimization_pass.cc:185] None of the MLIR Optimization Passes are enabled (registered 2)\n",
      "2022-09-03 07:26:51.315153: I tensorflow/stream_executor/cuda/cuda_dnn.cc:369] Loaded cuDNN version 8005\n"
     ]
    },
    {
     "name": "stdout",
     "output_type": "stream",
     "text": [
      "625/625 [==============================] - 11s 12ms/step - loss: 0.4195 - accuracy: 0.8102 - val_loss: 0.3082 - val_accuracy: 0.8748\n",
      "Epoch 2/10\n",
      "625/625 [==============================] - 7s 11ms/step - loss: 0.2400 - accuracy: 0.9096 - val_loss: 0.2711 - val_accuracy: 0.8884\n",
      "Epoch 3/10\n",
      "625/625 [==============================] - 7s 11ms/step - loss: 0.1863 - accuracy: 0.9323 - val_loss: 0.3050 - val_accuracy: 0.8938\n",
      "Epoch 4/10\n",
      "625/625 [==============================] - 7s 12ms/step - loss: 0.1543 - accuracy: 0.9438 - val_loss: 0.2776 - val_accuracy: 0.8932\n",
      "Epoch 5/10\n",
      "625/625 [==============================] - 7s 11ms/step - loss: 0.1307 - accuracy: 0.9549 - val_loss: 0.3222 - val_accuracy: 0.8872\n",
      "Epoch 6/10\n",
      "625/625 [==============================] - 7s 11ms/step - loss: 0.1113 - accuracy: 0.9614 - val_loss: 0.3075 - val_accuracy: 0.8938\n",
      "Epoch 7/10\n",
      "625/625 [==============================] - 7s 11ms/step - loss: 0.0987 - accuracy: 0.9670 - val_loss: 0.3204 - val_accuracy: 0.8844\n",
      "Epoch 8/10\n",
      "625/625 [==============================] - 7s 12ms/step - loss: 0.0853 - accuracy: 0.9711 - val_loss: 0.3494 - val_accuracy: 0.8840\n",
      "Epoch 9/10\n",
      "625/625 [==============================] - 7s 12ms/step - loss: 0.0771 - accuracy: 0.9748 - val_loss: 0.4098 - val_accuracy: 0.8820\n",
      "Epoch 10/10\n",
      "625/625 [==============================] - 7s 11ms/step - loss: 0.0702 - accuracy: 0.9773 - val_loss: 0.4169 - val_accuracy: 0.8830\n"
     ]
    }
   ],
   "source": [
    "model.compile(loss=\"binary_crossentropy\",optimizer=\"rmsprop\",metrics=['accuracy'])\n",
    "history=model.fit(train_data,train_labels,epochs=10,validation_split=0.2)"
   ]
  },
  {
   "cell_type": "code",
   "execution_count": 8,
   "id": "addab619",
   "metadata": {
    "execution": {
     "iopub.execute_input": "2022-09-03T07:28:03.895668Z",
     "iopub.status.busy": "2022-09-03T07:28:03.894314Z",
     "iopub.status.idle": "2022-09-03T07:28:03.971260Z",
     "shell.execute_reply": "2022-09-03T07:28:03.969848Z"
    },
    "papermill": {
     "duration": 0.159139,
     "end_time": "2022-09-03T07:28:03.974033",
     "exception": false,
     "start_time": "2022-09-03T07:28:03.814894",
     "status": "completed"
    },
    "tags": []
   },
   "outputs": [],
   "source": [
    "#model.save(\"lstm_model\")\n",
    "#or\n",
    "model.save(\"lstm.h5\")"
   ]
  },
  {
   "cell_type": "code",
   "execution_count": 9,
   "id": "4a8b8aa2",
   "metadata": {
    "execution": {
     "iopub.execute_input": "2022-09-03T07:28:04.146350Z",
     "iopub.status.busy": "2022-09-03T07:28:04.145911Z",
     "iopub.status.idle": "2022-09-03T07:28:04.437593Z",
     "shell.execute_reply": "2022-09-03T07:28:04.436443Z"
    },
    "papermill": {
     "duration": 0.380984,
     "end_time": "2022-09-03T07:28:04.440354",
     "exception": false,
     "start_time": "2022-09-03T07:28:04.059370",
     "status": "completed"
    },
    "tags": []
   },
   "outputs": [],
   "source": [
    "new_model = tf.keras.models.load_model('lstm.h5')"
   ]
  },
  {
   "cell_type": "code",
   "execution_count": 10,
   "id": "14330918",
   "metadata": {
    "execution": {
     "iopub.execute_input": "2022-09-03T07:28:04.597178Z",
     "iopub.status.busy": "2022-09-03T07:28:04.596808Z",
     "iopub.status.idle": "2022-09-03T07:28:09.054470Z",
     "shell.execute_reply": "2022-09-03T07:28:09.052480Z"
    },
    "papermill": {
     "duration": 4.536522,
     "end_time": "2022-09-03T07:28:09.057910",
     "exception": false,
     "start_time": "2022-09-03T07:28:04.521388",
     "status": "completed"
    },
    "tags": []
   },
   "outputs": [
    {
     "name": "stdout",
     "output_type": "stream",
     "text": [
      "782/782 [==============================] - 4s 5ms/step - loss: 0.5596 - accuracy: 0.8424\n",
      "[0.5596256852149963, 0.8424400091171265]\n"
     ]
    }
   ],
   "source": [
    "results=new_model.evaluate(test_data,test_labels)\n",
    "print(results)"
   ]
  },
  {
   "cell_type": "code",
   "execution_count": 11,
   "id": "5443bd84",
   "metadata": {
    "execution": {
     "iopub.execute_input": "2022-09-03T07:28:09.232888Z",
     "iopub.status.busy": "2022-09-03T07:28:09.232253Z",
     "iopub.status.idle": "2022-09-03T07:28:14.407287Z",
     "shell.execute_reply": "2022-09-03T07:28:14.406080Z"
    },
    "papermill": {
     "duration": 5.266271,
     "end_time": "2022-09-03T07:28:14.409689",
     "exception": false,
     "start_time": "2022-09-03T07:28:09.143418",
     "status": "completed"
    },
    "tags": []
   },
   "outputs": [
    {
     "name": "stdout",
     "output_type": "stream",
     "text": [
      "782/782 [==============================] - 4s 5ms/step - loss: 0.5596 - accuracy: 0.8424\n",
      "[0.5596256852149963, 0.8424400091171265]\n"
     ]
    }
   ],
   "source": [
    "results=model.evaluate(test_data,test_labels)\n",
    "print(results)"
   ]
  },
  {
   "cell_type": "markdown",
   "id": "d4f651ba",
   "metadata": {
    "papermill": {
     "duration": 0.088262,
     "end_time": "2022-09-03T07:28:14.583468",
     "exception": false,
     "start_time": "2022-09-03T07:28:14.495206",
     "status": "completed"
    },
    "tags": []
   },
   "source": [
    "### Making Predictions\n",
    "Now let’s use our network to make predictions on our own reviews. \n",
    "\n",
    "Since our reviews are encoded well need to convert any review that we write into that form so the network can understand it. To do that well load the encodings from the dataset and use them to encode our own data.\n",
    "\n",
    "\n"
   ]
  },
  {
   "cell_type": "code",
   "execution_count": 12,
   "id": "902d0b7c",
   "metadata": {
    "execution": {
     "iopub.execute_input": "2022-09-03T07:28:14.755146Z",
     "iopub.status.busy": "2022-09-03T07:28:14.754362Z",
     "iopub.status.idle": "2022-09-03T07:28:14.873116Z",
     "shell.execute_reply": "2022-09-03T07:28:14.872074Z"
    },
    "papermill": {
     "duration": 0.206644,
     "end_time": "2022-09-03T07:28:14.875818",
     "exception": false,
     "start_time": "2022-09-03T07:28:14.669174",
     "status": "completed"
    },
    "tags": []
   },
   "outputs": [
    {
     "name": "stdout",
     "output_type": "stream",
     "text": [
      "Downloading data from https://storage.googleapis.com/tensorflow/tf-keras-datasets/imdb_word_index.json\n",
      "1646592/1641221 [==============================] - 0s 0us/step\n",
      "1654784/1641221 [==============================] - 0s 0us/step\n"
     ]
    }
   ],
   "source": [
    "word_index=imdb.get_word_index()"
   ]
  },
  {
   "cell_type": "code",
   "execution_count": 13,
   "id": "f94d553e",
   "metadata": {
    "execution": {
     "iopub.execute_input": "2022-09-03T07:28:15.044513Z",
     "iopub.status.busy": "2022-09-03T07:28:15.043526Z",
     "iopub.status.idle": "2022-09-03T07:28:15.082835Z",
     "shell.execute_reply": "2022-09-03T07:28:15.081616Z"
    },
    "papermill": {
     "duration": 0.126845,
     "end_time": "2022-09-03T07:28:15.085808",
     "exception": false,
     "start_time": "2022-09-03T07:28:14.958963",
     "status": "completed"
    },
    "tags": []
   },
   "outputs": [
    {
     "name": "stdout",
     "output_type": "stream",
     "text": [
      "fawn : 34701\n",
      "tsukino : 52006\n",
      "nunnery : 52007\n",
      "sonja : 16816\n",
      "vani : 63951\n",
      "woods : 1408\n",
      "spiders : 16115\n",
      "hanging : 2345\n",
      "woody : 2289\n",
      "trawling : 52008\n"
     ]
    }
   ],
   "source": [
    "for i in range(10):\n",
    "    print(list(word_index.keys())[i],':',list(word_index.values())[i])"
   ]
  },
  {
   "cell_type": "code",
   "execution_count": 14,
   "id": "97bb6a2a",
   "metadata": {
    "execution": {
     "iopub.execute_input": "2022-09-03T07:28:15.262836Z",
     "iopub.status.busy": "2022-09-03T07:28:15.261781Z",
     "iopub.status.idle": "2022-09-03T07:28:15.267764Z",
     "shell.execute_reply": "2022-09-03T07:28:15.266585Z"
    },
    "papermill": {
     "duration": 0.09745,
     "end_time": "2022-09-03T07:28:15.270495",
     "exception": false,
     "start_time": "2022-09-03T07:28:15.173045",
     "status": "completed"
    },
    "tags": []
   },
   "outputs": [],
   "source": [
    "def encode_text(text):\n",
    "    tokens=keras.preprocessing.text.text_to_word_sequence(text)\n",
    "    tokens=[word_index[word] if word in word_index else 0 for word in tokens]\n",
    "    return sequence.pad_sequences([tokens],MAXLEN)[0]"
   ]
  },
  {
   "cell_type": "code",
   "execution_count": 15,
   "id": "94e0d775",
   "metadata": {
    "execution": {
     "iopub.execute_input": "2022-09-03T07:28:15.441474Z",
     "iopub.status.busy": "2022-09-03T07:28:15.441098Z",
     "iopub.status.idle": "2022-09-03T07:28:15.447216Z",
     "shell.execute_reply": "2022-09-03T07:28:15.446212Z"
    },
    "papermill": {
     "duration": 0.095294,
     "end_time": "2022-09-03T07:28:15.450271",
     "exception": false,
     "start_time": "2022-09-03T07:28:15.354977",
     "status": "completed"
    },
    "tags": []
   },
   "outputs": [
    {
     "name": "stdout",
     "output_type": "stream",
     "text": [
      "[  0   0   0   0   0   0   0   0   0   0   0   0   0   0   0   0   0   0\n",
      "   0   0   0   0   0   0   0   0   0   0   0   0   0   0   0   0   0   0\n",
      "   0   0   0   0   0   0   0   0   0   0   0   0   0   0   0   0   0   0\n",
      "   0   0   0   0   0   0   0   0   0   0   0   0   0   0   0   0   0   0\n",
      "   0   0   0   0   0   0   0   0   0   0   0   0   0   0   0   0   0   0\n",
      "   0   0   0   0   0   0   0   0   0   0   0   0   0   0   0   0   0   0\n",
      "   0   0   0   0   0   0   0   0   0   0   0   0   0   0   0   0   0   0\n",
      "   0   0   0   0   0   0   0   0   0   0   0   0   0   0   0   0   0   0\n",
      "   0   0   0   0   0   0   0   0   0   0   0   0   0   0   0   0   0   0\n",
      "   0   0   0   0   0   0   0   0   0   0   0   0   0   0   0   0   0   0\n",
      "   0   0   0   0   0   0   0   0   0   0   0   0   0   0   0   0   0   0\n",
      "   0   0   0   0   0   0   0   0   0   0   0   0   0   0   0   0   0   0\n",
      "   0   0   0   0   0   0   0   0   0   0   0   0   0   0   0   0   0   0\n",
      "   0   0   0   0   0   0  12  17  13 477  10  25   5 103   9 171]\n"
     ]
    }
   ],
   "source": [
    "text=\"that movie was amazing, i have to watch it again\"\n",
    "encoded=encode_text(text)\n",
    "print(encoded)"
   ]
  },
  {
   "cell_type": "code",
   "execution_count": 16,
   "id": "2fe26a06",
   "metadata": {
    "execution": {
     "iopub.execute_input": "2022-09-03T07:28:15.629770Z",
     "iopub.status.busy": "2022-09-03T07:28:15.629162Z",
     "iopub.status.idle": "2022-09-03T07:28:15.648693Z",
     "shell.execute_reply": "2022-09-03T07:28:15.647642Z"
    },
    "papermill": {
     "duration": 0.114427,
     "end_time": "2022-09-03T07:28:15.651810",
     "exception": false,
     "start_time": "2022-09-03T07:28:15.537383",
     "status": "completed"
    },
    "tags": []
   },
   "outputs": [
    {
     "name": "stdout",
     "output_type": "stream",
     "text": [
      "that movie was amazing i have to watch it again\n"
     ]
    }
   ],
   "source": [
    "# Decode function that converts itegers to text\n",
    "\n",
    "reverse_word_index={value:key for (key,value) in word_index.items()}\n",
    "\n",
    "def decode_integers(integers):\n",
    "    PAD=0\n",
    "    text=\"\"\n",
    "    for num in integers:\n",
    "        if num!=PAD:\n",
    "            text+=reverse_word_index[num] +\" \"\n",
    "            \n",
    "    return text[:-1]\n",
    "\n",
    "print(decode_integers(encoded))"
   ]
  },
  {
   "cell_type": "code",
   "execution_count": 17,
   "id": "1871384b",
   "metadata": {
    "execution": {
     "iopub.execute_input": "2022-09-03T07:28:15.826145Z",
     "iopub.status.busy": "2022-09-03T07:28:15.825735Z",
     "iopub.status.idle": "2022-09-03T07:28:15.831046Z",
     "shell.execute_reply": "2022-09-03T07:28:15.830014Z"
    },
    "papermill": {
     "duration": 0.093937,
     "end_time": "2022-09-03T07:28:15.833209",
     "exception": false,
     "start_time": "2022-09-03T07:28:15.739272",
     "status": "completed"
    },
    "tags": []
   },
   "outputs": [],
   "source": [
    "def predict(text):\n",
    "    encoded_text=encode_text(text)\n",
    "    pred=encoded_text.reshape(1,250) #converting vector to 2d\n",
    "    result=model.predict(pred)\n",
    "    print(result[0])"
   ]
  },
  {
   "cell_type": "code",
   "execution_count": 18,
   "id": "5457fc52",
   "metadata": {
    "execution": {
     "iopub.execute_input": "2022-09-03T07:28:16.065461Z",
     "iopub.status.busy": "2022-09-03T07:28:16.065015Z",
     "iopub.status.idle": "2022-09-03T07:28:16.487729Z",
     "shell.execute_reply": "2022-09-03T07:28:16.485373Z"
    },
    "papermill": {
     "duration": 0.512437,
     "end_time": "2022-09-03T07:28:16.490452",
     "exception": false,
     "start_time": "2022-09-03T07:28:15.978015",
     "status": "completed"
    },
    "tags": []
   },
   "outputs": [
    {
     "name": "stdout",
     "output_type": "stream",
     "text": [
      "[0.9020452]\n",
      "[0.3575097]\n"
     ]
    }
   ],
   "source": [
    "positive_review=\"That was a good movie, i will definitely watch it again\"\n",
    "predict(positive_review)\n",
    "\n",
    "negative_review=\"Don't waste your time watching this movie, so disappointing\"\n",
    "predict(negative_review)"
   ]
  },
  {
   "cell_type": "markdown",
   "id": "e2b6f445",
   "metadata": {
    "papermill": {
     "duration": 0.087889,
     "end_time": "2022-09-03T07:28:16.665953",
     "exception": false,
     "start_time": "2022-09-03T07:28:16.578064",
     "status": "completed"
    },
    "tags": []
   },
   "source": [
    "## RNN Play Generator\n",
    "\n",
    "Now time for one of the coolest examples we've seen so far. We are going to use a RNN to generate a play. We will simply show the RNN an example of something we want it to recreate and it will learn how to write a version of it on its own. We'll do this using a character predictive model that will take as input a variable length sequence and predict the next character. We can use the model many times in a row with the output from the last predicition as the input for the next call to generate a sequence.\n",
    "\n",
    "\n",
    "*This guide is based on the following: https://www.tensorflow.org/tutorials/text/text_generation*"
   ]
  },
  {
   "cell_type": "markdown",
   "id": "82d77978",
   "metadata": {
    "papermill": {
     "duration": 0.089702,
     "end_time": "2022-09-03T07:28:16.840537",
     "exception": false,
     "start_time": "2022-09-03T07:28:16.750835",
     "status": "completed"
    },
    "tags": []
   },
   "source": [
    "### Loading Your Own Data\n",
    "To load your own data, you'll need to upload a file from the dialog below. Then you'll need to follow the steps from above but load in this new file instead.\n",
    "\n"
   ]
  },
  {
   "cell_type": "code",
   "execution_count": 19,
   "id": "8e5d0a71",
   "metadata": {
    "execution": {
     "iopub.execute_input": "2022-09-03T07:28:17.017336Z",
     "iopub.status.busy": "2022-09-03T07:28:17.016146Z",
     "iopub.status.idle": "2022-09-03T07:28:17.021374Z",
     "shell.execute_reply": "2022-09-03T07:28:17.020282Z"
    },
    "papermill": {
     "duration": 0.094521,
     "end_time": "2022-09-03T07:28:17.023465",
     "exception": false,
     "start_time": "2022-09-03T07:28:16.928944",
     "status": "completed"
    },
    "tags": []
   },
   "outputs": [],
   "source": [
    "#from google.colab import files\n",
    "#path_to_file = list(files.upload().keys())[0]"
   ]
  },
  {
   "cell_type": "code",
   "execution_count": 20,
   "id": "7c1eb43c",
   "metadata": {
    "execution": {
     "iopub.execute_input": "2022-09-03T07:28:17.201861Z",
     "iopub.status.busy": "2022-09-03T07:28:17.200764Z",
     "iopub.status.idle": "2022-09-03T07:28:17.262263Z",
     "shell.execute_reply": "2022-09-03T07:28:17.260556Z"
    },
    "papermill": {
     "duration": 0.154625,
     "end_time": "2022-09-03T07:28:17.265861",
     "exception": false,
     "start_time": "2022-09-03T07:28:17.111236",
     "status": "completed"
    },
    "tags": []
   },
   "outputs": [
    {
     "name": "stdout",
     "output_type": "stream",
     "text": [
      "Downloading data from https://storage.googleapis.com/download.tensorflow.org/data/shakespeare.txt\n",
      "1122304/1115394 [==============================] - 0s 0us/step\n",
      "1130496/1115394 [==============================] - 0s 0us/step\n"
     ]
    }
   ],
   "source": [
    "#Load data from keras\n",
    "path_to_file = tf.keras.utils.get_file('shakespeare.txt', 'https://storage.googleapis.com/download.tensorflow.org/data/shakespeare.txt')"
   ]
  },
  {
   "cell_type": "code",
   "execution_count": 21,
   "id": "7adb0ed9",
   "metadata": {
    "execution": {
     "iopub.execute_input": "2022-09-03T07:28:17.442012Z",
     "iopub.status.busy": "2022-09-03T07:28:17.441595Z",
     "iopub.status.idle": "2022-09-03T07:28:17.448962Z",
     "shell.execute_reply": "2022-09-03T07:28:17.447285Z"
    },
    "papermill": {
     "duration": 0.099512,
     "end_time": "2022-09-03T07:28:17.451838",
     "exception": false,
     "start_time": "2022-09-03T07:28:17.352326",
     "status": "completed"
    },
    "tags": []
   },
   "outputs": [
    {
     "name": "stdout",
     "output_type": "stream",
     "text": [
      "Length of text :  1115394\n"
     ]
    }
   ],
   "source": [
    "text=open(path_to_file,'rb').read().decode(encoding='utf-8')\n",
    "print(\"Length of text : \",len(text))"
   ]
  },
  {
   "cell_type": "code",
   "execution_count": 22,
   "id": "b8313c4e",
   "metadata": {
    "execution": {
     "iopub.execute_input": "2022-09-03T07:28:17.633119Z",
     "iopub.status.busy": "2022-09-03T07:28:17.632730Z",
     "iopub.status.idle": "2022-09-03T07:28:17.638455Z",
     "shell.execute_reply": "2022-09-03T07:28:17.637331Z"
    },
    "papermill": {
     "duration": 0.099842,
     "end_time": "2022-09-03T07:28:17.641441",
     "exception": false,
     "start_time": "2022-09-03T07:28:17.541599",
     "status": "completed"
    },
    "tags": []
   },
   "outputs": [
    {
     "name": "stdout",
     "output_type": "stream",
     "text": [
      "First Citizen:\n",
      "Before we proceed any further, hear me speak.\n",
      "\n",
      "All:\n",
      "Speak, speak.\n",
      "\n",
      "First Citizen:\n",
      "You are all resolved rather to die than to famish?\n",
      "\n",
      "All:\n",
      "Resolved. resolved.\n",
      "\n",
      "First Citizen:\n",
      "First, you know Caius Marcius is chief enemy to the people.\n",
      "\n"
     ]
    }
   ],
   "source": [
    "print(text[:250])"
   ]
  },
  {
   "cell_type": "markdown",
   "id": "eeac1bf5",
   "metadata": {
    "papermill": {
     "duration": 0.089651,
     "end_time": "2022-09-03T07:28:17.820474",
     "exception": false,
     "start_time": "2022-09-03T07:28:17.730823",
     "status": "completed"
    },
    "tags": []
   },
   "source": [
    "### Encoding\n",
    "Since this text isn't encoded yet well need to do that ourselves. We are going to encode each unique character as a different integer.\n"
   ]
  },
  {
   "cell_type": "code",
   "execution_count": 23,
   "id": "9014deee",
   "metadata": {
    "execution": {
     "iopub.execute_input": "2022-09-03T07:28:17.991363Z",
     "iopub.status.busy": "2022-09-03T07:28:17.990987Z",
     "iopub.status.idle": "2022-09-03T07:28:18.182648Z",
     "shell.execute_reply": "2022-09-03T07:28:18.181521Z"
    },
    "papermill": {
     "duration": 0.279175,
     "end_time": "2022-09-03T07:28:18.185437",
     "exception": false,
     "start_time": "2022-09-03T07:28:17.906262",
     "status": "completed"
    },
    "tags": []
   },
   "outputs": [],
   "source": [
    "vocab=sorted(set(text))\n",
    "\n",
    "#Creating mapping from text to index\n",
    "char2idx={u:i for i,u in enumerate(vocab)}\n",
    "idx2char=np.array(vocab)\n",
    "\n",
    "def text_to_int(text):\n",
    "    return np.array([char2idx[t] for t in text])\n",
    "\n",
    "text_as_int=text_to_int(text)"
   ]
  },
  {
   "cell_type": "code",
   "execution_count": 24,
   "id": "614f7560",
   "metadata": {
    "execution": {
     "iopub.execute_input": "2022-09-03T07:28:18.473723Z",
     "iopub.status.busy": "2022-09-03T07:28:18.472699Z",
     "iopub.status.idle": "2022-09-03T07:28:18.482385Z",
     "shell.execute_reply": "2022-09-03T07:28:18.480819Z"
    },
    "papermill": {
     "duration": 0.161974,
     "end_time": "2022-09-03T07:28:18.486741",
     "exception": false,
     "start_time": "2022-09-03T07:28:18.324767",
     "status": "completed"
    },
    "tags": []
   },
   "outputs": [
    {
     "name": "stdout",
     "output_type": "stream",
     "text": [
      "Text: First Citizen\n",
      "Encoded: [18 47 56 57 58  1 15 47 58 47 64 43 52]\n"
     ]
    }
   ],
   "source": [
    "print('Text:',text[0:13])\n",
    "print('Encoded:',text_to_int(text[:13]))"
   ]
  },
  {
   "cell_type": "code",
   "execution_count": 25,
   "id": "974d1625",
   "metadata": {
    "execution": {
     "iopub.execute_input": "2022-09-03T07:28:18.771144Z",
     "iopub.status.busy": "2022-09-03T07:28:18.770680Z",
     "iopub.status.idle": "2022-09-03T07:28:18.777827Z",
     "shell.execute_reply": "2022-09-03T07:28:18.776885Z"
    },
    "papermill": {
     "duration": 0.15705,
     "end_time": "2022-09-03T07:28:18.781837",
     "exception": false,
     "start_time": "2022-09-03T07:28:18.624787",
     "status": "completed"
    },
    "tags": []
   },
   "outputs": [
    {
     "name": "stdout",
     "output_type": "stream",
     "text": [
      "First Citizen\n"
     ]
    }
   ],
   "source": [
    "# Convert int to text\n",
    "def int_to_text(ints):\n",
    "    try:\n",
    "        ints=ints.numpy()\n",
    "    except:\n",
    "        pass\n",
    "    return ''.join(idx2char[ints])\n",
    "\n",
    "print(int_to_text(text_to_int(text[:13])))"
   ]
  },
  {
   "cell_type": "markdown",
   "id": "b49f3dcc",
   "metadata": {
    "papermill": {
     "duration": 0.134268,
     "end_time": "2022-09-03T07:28:19.059515",
     "exception": false,
     "start_time": "2022-09-03T07:28:18.925247",
     "status": "completed"
    },
    "tags": []
   },
   "source": [
    "### Creating Training Examples\n",
    "Remember our task is to feed the model a sequence and have it return to us the next character. This means we need to split our text data from above into many shorter sequences that we can pass to the model as training examples. \n",
    "\n",
    "The training examples we will prepapre will use a *seq_length* sequence as input and a *seq_length* sequence as the output where that sequence is the original sequence shifted one letter to the right. For example:\n",
    "\n",
    "```input: Hell | output: ello```\n",
    "\n",
    "Our first step will be to create a stream of characters from our text data."
   ]
  },
  {
   "cell_type": "code",
   "execution_count": 26,
   "id": "6cb35a87",
   "metadata": {
    "execution": {
     "iopub.execute_input": "2022-09-03T07:28:19.341559Z",
     "iopub.status.busy": "2022-09-03T07:28:19.340613Z",
     "iopub.status.idle": "2022-09-03T07:28:19.353708Z",
     "shell.execute_reply": "2022-09-03T07:28:19.352664Z"
    },
    "papermill": {
     "duration": 0.159751,
     "end_time": "2022-09-03T07:28:19.357097",
     "exception": false,
     "start_time": "2022-09-03T07:28:19.197346",
     "status": "completed"
    },
    "tags": []
   },
   "outputs": [],
   "source": [
    "seq_length = 100  # length of sequence for a training example\n",
    "examples_per_epoch = len(text)//(seq_length+1)\n",
    "\n",
    "# Create training examples / targets\n",
    "char_dataset = tf.data.Dataset.from_tensor_slices(text_as_int)"
   ]
  },
  {
   "cell_type": "code",
   "execution_count": 27,
   "id": "7022e3f8",
   "metadata": {
    "execution": {
     "iopub.execute_input": "2022-09-03T07:28:19.641411Z",
     "iopub.status.busy": "2022-09-03T07:28:19.640814Z",
     "iopub.status.idle": "2022-09-03T07:28:19.649777Z",
     "shell.execute_reply": "2022-09-03T07:28:19.648780Z"
    },
    "papermill": {
     "duration": 0.152606,
     "end_time": "2022-09-03T07:28:19.652464",
     "exception": false,
     "start_time": "2022-09-03T07:28:19.499858",
     "status": "completed"
    },
    "tags": []
   },
   "outputs": [],
   "source": [
    "sequences = char_dataset.batch(seq_length+1, drop_remainder=True)"
   ]
  },
  {
   "cell_type": "code",
   "execution_count": 28,
   "id": "9c8abe5e",
   "metadata": {
    "execution": {
     "iopub.execute_input": "2022-09-03T07:28:19.832560Z",
     "iopub.status.busy": "2022-09-03T07:28:19.832155Z",
     "iopub.status.idle": "2022-09-03T07:28:19.878598Z",
     "shell.execute_reply": "2022-09-03T07:28:19.877535Z"
    },
    "papermill": {
     "duration": 0.136987,
     "end_time": "2022-09-03T07:28:19.881138",
     "exception": false,
     "start_time": "2022-09-03T07:28:19.744151",
     "status": "completed"
    },
    "tags": []
   },
   "outputs": [],
   "source": [
    "def split_input_target(chunk):  # for the example: hello\n",
    "    input_text = chunk[:-1]  # hell\n",
    "    target_text = chunk[1:]  # ello\n",
    "    return input_text, target_text  # hell, ello\n",
    "\n",
    "dataset = sequences.map(split_input_target)  # we use map to apply the above function to every entry"
   ]
  },
  {
   "cell_type": "code",
   "execution_count": 29,
   "id": "d5eca464",
   "metadata": {
    "execution": {
     "iopub.execute_input": "2022-09-03T07:28:20.057499Z",
     "iopub.status.busy": "2022-09-03T07:28:20.057113Z",
     "iopub.status.idle": "2022-09-03T07:28:20.083957Z",
     "shell.execute_reply": "2022-09-03T07:28:20.082753Z"
    },
    "papermill": {
     "duration": 0.116971,
     "end_time": "2022-09-03T07:28:20.086396",
     "exception": false,
     "start_time": "2022-09-03T07:28:19.969425",
     "status": "completed"
    },
    "tags": []
   },
   "outputs": [
    {
     "name": "stdout",
     "output_type": "stream",
     "text": [
      "\n",
      "\n",
      "EXAMPLE\n",
      "\n",
      "INPUT\n",
      "First Citizen:\n",
      "Before we proceed any further, hear me speak.\n",
      "\n",
      "All:\n",
      "Speak, speak.\n",
      "\n",
      "First Citizen:\n",
      "You\n",
      "\n",
      "OUTPUT\n",
      "irst Citizen:\n",
      "Before we proceed any further, hear me speak.\n",
      "\n",
      "All:\n",
      "Speak, speak.\n",
      "\n",
      "First Citizen:\n",
      "You \n",
      "\n",
      "\n",
      "EXAMPLE\n",
      "\n",
      "INPUT\n",
      "are all resolved rather to die than to famish?\n",
      "\n",
      "All:\n",
      "Resolved. resolved.\n",
      "\n",
      "First Citizen:\n",
      "First, you \n",
      "\n",
      "OUTPUT\n",
      "re all resolved rather to die than to famish?\n",
      "\n",
      "All:\n",
      "Resolved. resolved.\n",
      "\n",
      "First Citizen:\n",
      "First, you k\n"
     ]
    }
   ],
   "source": [
    "for x, y in dataset.take(2):\n",
    "    print(\"\\n\\nEXAMPLE\\n\")\n",
    "    print(\"INPUT\")\n",
    "    print(int_to_text(x))\n",
    "    print(\"\\nOUTPUT\")\n",
    "    print(int_to_text(y))"
   ]
  },
  {
   "cell_type": "code",
   "execution_count": 30,
   "id": "1931f8cb",
   "metadata": {
    "execution": {
     "iopub.execute_input": "2022-09-03T07:28:20.260328Z",
     "iopub.status.busy": "2022-09-03T07:28:20.259341Z",
     "iopub.status.idle": "2022-09-03T07:28:20.269405Z",
     "shell.execute_reply": "2022-09-03T07:28:20.268279Z"
    },
    "papermill": {
     "duration": 0.101261,
     "end_time": "2022-09-03T07:28:20.271823",
     "exception": false,
     "start_time": "2022-09-03T07:28:20.170562",
     "status": "completed"
    },
    "tags": []
   },
   "outputs": [],
   "source": [
    "BATCH_SIZE = 64\n",
    "VOCAB_SIZE = len(vocab)  # vocab is number of unique characters\n",
    "EMBEDDING_DIM = 256\n",
    "RNN_UNITS = 1024\n",
    "\n",
    "# Buffer size to shuffle the dataset\n",
    "# (TF data is designed to work with possibly infinite sequences,\n",
    "# so it doesn't attempt to shuffle the entire sequence in memory. Instead,\n",
    "# it maintains a buffer in which it shuffles elements).\n",
    "BUFFER_SIZE = 10000\n",
    "\n",
    "data = dataset.shuffle(BUFFER_SIZE).batch(BATCH_SIZE, drop_remainder=True)"
   ]
  },
  {
   "cell_type": "code",
   "execution_count": 31,
   "id": "8ce0745d",
   "metadata": {
    "execution": {
     "iopub.execute_input": "2022-09-03T07:28:20.446037Z",
     "iopub.status.busy": "2022-09-03T07:28:20.445027Z",
     "iopub.status.idle": "2022-09-03T07:28:20.675029Z",
     "shell.execute_reply": "2022-09-03T07:28:20.672620Z"
    },
    "papermill": {
     "duration": 0.320123,
     "end_time": "2022-09-03T07:28:20.677554",
     "exception": false,
     "start_time": "2022-09-03T07:28:20.357431",
     "status": "completed"
    },
    "tags": []
   },
   "outputs": [
    {
     "name": "stdout",
     "output_type": "stream",
     "text": [
      "Model: \"sequential_1\"\n",
      "_________________________________________________________________\n",
      "Layer (type)                 Output Shape              Param #   \n",
      "=================================================================\n",
      "embedding_1 (Embedding)      (64, None, 256)           16640     \n",
      "_________________________________________________________________\n",
      "lstm_1 (LSTM)                (64, None, 1024)          5246976   \n",
      "_________________________________________________________________\n",
      "dense_1 (Dense)              (64, None, 65)            66625     \n",
      "=================================================================\n",
      "Total params: 5,330,241\n",
      "Trainable params: 5,330,241\n",
      "Non-trainable params: 0\n",
      "_________________________________________________________________\n"
     ]
    }
   ],
   "source": [
    "def build_model(vocab_size, embedding_dim, rnn_units, batch_size):\n",
    "    model = tf.keras.Sequential([\n",
    "      tf.keras.layers.Embedding(vocab_size, embedding_dim,\n",
    "                                batch_input_shape=[batch_size, None]),\n",
    "      tf.keras.layers.LSTM(rnn_units,\n",
    "                        return_sequences=True,\n",
    "                        stateful=True,\n",
    "                        recurrent_initializer='glorot_uniform'),\n",
    "      tf.keras.layers.Dense(vocab_size)\n",
    "    ])\n",
    "    return model\n",
    "\n",
    "model = build_model(VOCAB_SIZE,EMBEDDING_DIM, RNN_UNITS, BATCH_SIZE)\n",
    "model.summary()"
   ]
  },
  {
   "cell_type": "markdown",
   "id": "b942b6a6",
   "metadata": {
    "papermill": {
     "duration": 0.085573,
     "end_time": "2022-09-03T07:28:20.848872",
     "exception": false,
     "start_time": "2022-09-03T07:28:20.763299",
     "status": "completed"
    },
    "tags": []
   },
   "source": [
    " (64, None, 256)  means 64 is batch size, None is length of sequence which we dont know, 256 is amount of values in vector"
   ]
  },
  {
   "cell_type": "markdown",
   "id": "74caeed4",
   "metadata": {
    "papermill": {
     "duration": 0.08577,
     "end_time": "2022-09-03T07:28:21.021374",
     "exception": false,
     "start_time": "2022-09-03T07:28:20.935604",
     "status": "completed"
    },
    "tags": []
   },
   "source": [
    "### Creating a Loss Function\n",
    "Now we are going to create our own loss function for this problem. This is because our model will output a (64, sequence_length, 65) shaped tensor that represents the probability distribution of each character at each timestep for every sequence in the batch. \n",
    "\n"
   ]
  },
  {
   "cell_type": "markdown",
   "id": "a69daa5e",
   "metadata": {
    "papermill": {
     "duration": 0.08466,
     "end_time": "2022-09-03T07:28:21.193285",
     "exception": false,
     "start_time": "2022-09-03T07:28:21.108625",
     "status": "completed"
    },
    "tags": []
   },
   "source": [
    "However, before we do that let's have a look at a sample input and the output from our untrained model. This is so we can understand what the model is giving us.\n",
    "\n"
   ]
  },
  {
   "cell_type": "code",
   "execution_count": 32,
   "id": "205715d2",
   "metadata": {
    "execution": {
     "iopub.execute_input": "2022-09-03T07:28:21.414001Z",
     "iopub.status.busy": "2022-09-03T07:28:21.413604Z",
     "iopub.status.idle": "2022-09-03T07:28:23.429879Z",
     "shell.execute_reply": "2022-09-03T07:28:23.428642Z"
    },
    "papermill": {
     "duration": 2.151224,
     "end_time": "2022-09-03T07:28:23.433540",
     "exception": false,
     "start_time": "2022-09-03T07:28:21.282316",
     "status": "completed"
    },
    "tags": []
   },
   "outputs": [
    {
     "name": "stdout",
     "output_type": "stream",
     "text": [
      "(64, 100, 65) # (batch_size, sequence_length, vocab_size)\n"
     ]
    }
   ],
   "source": [
    "for input_example_batch, target_example_batch in data.take(1):\n",
    "    example_batch_predictions = model(input_example_batch)  # ask our model for a prediction on our first batch of training data (64 entries)\n",
    "    print(example_batch_predictions.shape, \"# (batch_size, sequence_length, vocab_size)\")  # print out the output shape"
   ]
  },
  {
   "cell_type": "code",
   "execution_count": 33,
   "id": "83723cbb",
   "metadata": {
    "execution": {
     "iopub.execute_input": "2022-09-03T07:28:23.605686Z",
     "iopub.status.busy": "2022-09-03T07:28:23.603283Z",
     "iopub.status.idle": "2022-09-03T07:28:23.617246Z",
     "shell.execute_reply": "2022-09-03T07:28:23.614289Z"
    },
    "papermill": {
     "duration": 0.101575,
     "end_time": "2022-09-03T07:28:23.619546",
     "exception": false,
     "start_time": "2022-09-03T07:28:23.517971",
     "status": "completed"
    },
    "tags": []
   },
   "outputs": [
    {
     "name": "stdout",
     "output_type": "stream",
     "text": [
      "(64, 100, 65)\n",
      "64\n",
      "tf.Tensor(\n",
      "[[[-1.12358527e-03 -3.45355854e-03  1.42945966e-03 ... -1.18742906e-03\n",
      "    2.80821067e-03 -2.70476239e-03]\n",
      "  [ 7.55981775e-04  1.24701718e-03  4.51116823e-03 ... -3.01754498e-03\n",
      "    2.00428907e-03 -3.70528735e-03]\n",
      "  [-2.49436591e-04  1.47628644e-03 -4.98011941e-05 ... -9.40290629e-04\n",
      "    3.30234016e-03 -2.04246351e-03]\n",
      "  ...\n",
      "  [ 2.48998683e-03  2.34583020e-03 -4.11398709e-04 ... -1.13506960e-02\n",
      "    5.53064654e-03  8.57450999e-03]\n",
      "  [ 1.84601638e-03  6.17627101e-03 -3.46798589e-03 ... -8.71742796e-03\n",
      "    5.53322351e-03  5.44113899e-03]\n",
      "  [ 1.48150418e-03  8.82135704e-03 -6.70037325e-03 ... -7.16813980e-03\n",
      "    5.65900235e-03  3.62027343e-03]]\n",
      "\n",
      " [[ 1.85315963e-03  6.10149000e-04  2.04263348e-03 ... -3.28315771e-04\n",
      "   -2.23206868e-03  3.16602318e-03]\n",
      "  [ 4.75203339e-03  2.55833170e-03  1.99522823e-04 ... -2.02545128e-03\n",
      "   -1.65152200e-03  1.21150841e-03]\n",
      "  [-4.12548753e-03  3.39484308e-03  5.75516373e-03 ... -3.70519795e-03\n",
      "   -4.47241170e-03  2.67887837e-03]\n",
      "  ...\n",
      "  [ 6.94313960e-04  1.71960401e-03 -2.76499381e-03 ... -5.73767629e-03\n",
      "    9.72023583e-04  6.99232658e-03]\n",
      "  [-1.92951912e-03  3.43280938e-03 -1.97722507e-03 ... -5.98109839e-03\n",
      "    6.69100182e-03  1.58905257e-02]\n",
      "  [-1.48828840e-04  3.08868289e-03 -5.86644886e-03 ... -5.59930457e-03\n",
      "    7.54280109e-03  1.31292101e-02]]\n",
      "\n",
      " [[ 8.40138760e-04 -1.03880023e-03  3.72156082e-03 ... -1.00087596e-03\n",
      "   -2.94167921e-03  1.27165287e-04]\n",
      "  [ 1.65072968e-03  2.81734066e-03  2.19449401e-03 ... -6.16268115e-03\n",
      "   -5.21249603e-03 -2.50844564e-03]\n",
      "  [ 4.98560816e-03  8.11707287e-04  7.82206282e-03 ... -3.97275388e-03\n",
      "   -5.39071299e-03 -4.09870921e-03]\n",
      "  ...\n",
      "  [ 7.20561855e-03  9.44855809e-03  3.04030953e-03 ... -1.21552180e-02\n",
      "   -8.44654534e-03  7.84536637e-03]\n",
      "  [ 6.53935829e-03  1.03605315e-02 -2.09777965e-04 ... -9.32356529e-03\n",
      "   -8.88778828e-03  5.29811904e-03]\n",
      "  [ 7.20668258e-03  9.32649802e-03  1.43107085e-03 ... -7.14740902e-03\n",
      "   -7.91491382e-03  8.25680513e-03]]\n",
      "\n",
      " ...\n",
      "\n",
      " [[-4.26788721e-03 -1.87273882e-03  3.99734313e-03 ...  3.77792097e-03\n",
      "   -9.62888170e-03  1.15866121e-03]\n",
      "  [-2.94283591e-03  1.47336908e-03  3.36606172e-04 ...  2.37144623e-03\n",
      "   -1.04253162e-02 -1.22204889e-04]\n",
      "  [-6.25866232e-04  2.32751295e-03  1.78431277e-03 ...  1.51180278e-03\n",
      "   -9.38897394e-03  3.68745346e-03]\n",
      "  ...\n",
      "  [-7.92504847e-03  2.73584202e-03 -1.03645981e-03 ... -9.24892724e-04\n",
      "   -1.10682137e-02  8.33395310e-03]\n",
      "  [-4.68454789e-03  5.76263107e-03 -4.48250584e-03 ... -1.38065638e-03\n",
      "   -1.16650602e-02  5.37857320e-03]\n",
      "  [-1.24474312e-03  6.11468777e-03 -2.60833348e-03 ... -1.36421307e-03\n",
      "   -1.02956947e-02  8.00259970e-03]]\n",
      "\n",
      " [[ 5.05864993e-03  3.31433257e-03 -1.94552483e-03 ... -6.86809374e-03\n",
      "   -7.43752811e-03  5.66980336e-04]\n",
      "  [ 3.11601441e-03  5.29321888e-03 -4.28096857e-03 ... -5.60918543e-03\n",
      "   -7.99077563e-03 -1.65674707e-03]\n",
      "  [ 4.72067529e-03  6.10687956e-03 -5.52020408e-03 ... -6.58645341e-03\n",
      "   -5.99530758e-03 -2.11973488e-03]\n",
      "  ...\n",
      "  [ 3.77345900e-03  1.38161401e-03 -1.00581534e-02 ... -5.43077337e-03\n",
      "    5.96321188e-03 -3.55946110e-03]\n",
      "  [ 6.20494736e-03 -1.35139935e-03 -3.39070358e-03 ... -2.16731080e-03\n",
      "    2.63359863e-03 -3.66844609e-03]\n",
      "  [ 6.17226586e-03 -1.07498944e-03 -1.45978015e-03 ... -1.33618712e-03\n",
      "   -3.84159852e-04  6.54675998e-04]]\n",
      "\n",
      " [[-2.34074611e-03 -1.81329763e-03 -4.54051769e-04 ...  1.24293799e-03\n",
      "   -6.25163375e-04  2.88203196e-03]\n",
      "  [-2.79693166e-03  2.74306536e-03 -8.91594915e-04 ... -3.39805009e-03\n",
      "    4.88019641e-03  7.23195146e-04]\n",
      "  [ 5.18671004e-04  3.76229570e-03  3.31862364e-04 ... -9.09850001e-03\n",
      "    8.95072822e-04  1.41201646e-03]\n",
      "  ...\n",
      "  [ 8.63922387e-03  4.93780058e-03  3.81339528e-03 ... -1.21439639e-02\n",
      "    2.67545250e-03  1.52571332e-02]\n",
      "  [-5.52807236e-04  7.25576282e-03  9.88971163e-03 ... -9.67731327e-03\n",
      "    9.38481186e-04  1.21932887e-02]\n",
      "  [ 2.60200701e-03  6.95366831e-03  7.74350064e-03 ... -1.20627135e-02\n",
      "    8.01195484e-03  9.27294325e-03]]], shape=(64, 100, 65), dtype=float32)\n"
     ]
    }
   ],
   "source": [
    "# we can see that the predicition is an array of 64 arrays, one for each entry in the batch\n",
    "\n",
    "print(example_batch_predictions.shape)\n",
    "print(len(example_batch_predictions))\n",
    "print(example_batch_predictions)"
   ]
  },
  {
   "cell_type": "code",
   "execution_count": 34,
   "id": "7fd4bb2e",
   "metadata": {
    "execution": {
     "iopub.execute_input": "2022-09-03T07:28:23.799586Z",
     "iopub.status.busy": "2022-09-03T07:28:23.798430Z",
     "iopub.status.idle": "2022-09-03T07:28:23.809827Z",
     "shell.execute_reply": "2022-09-03T07:28:23.808334Z"
    },
    "papermill": {
     "duration": 0.099873,
     "end_time": "2022-09-03T07:28:23.812225",
     "exception": false,
     "start_time": "2022-09-03T07:28:23.712352",
     "status": "completed"
    },
    "tags": []
   },
   "outputs": [
    {
     "name": "stdout",
     "output_type": "stream",
     "text": [
      "100\n",
      "tf.Tensor(\n",
      "[[-1.1235853e-03 -3.4535585e-03  1.4294597e-03 ... -1.1874291e-03\n",
      "   2.8082107e-03 -2.7047624e-03]\n",
      " [ 7.5598178e-04  1.2470172e-03  4.5111682e-03 ... -3.0175450e-03\n",
      "   2.0042891e-03 -3.7052874e-03]\n",
      " [-2.4943659e-04  1.4762864e-03 -4.9801194e-05 ... -9.4029063e-04\n",
      "   3.3023402e-03 -2.0424635e-03]\n",
      " ...\n",
      " [ 2.4899868e-03  2.3458302e-03 -4.1139871e-04 ... -1.1350696e-02\n",
      "   5.5306465e-03  8.5745100e-03]\n",
      " [ 1.8460164e-03  6.1762710e-03 -3.4679859e-03 ... -8.7174280e-03\n",
      "   5.5332235e-03  5.4411390e-03]\n",
      " [ 1.4815042e-03  8.8213570e-03 -6.7003733e-03 ... -7.1681398e-03\n",
      "   5.6590023e-03  3.6202734e-03]], shape=(100, 65), dtype=float32)\n"
     ]
    }
   ],
   "source": [
    "# lets examine one prediction\n",
    "pred = example_batch_predictions[0]\n",
    "print(len(pred))\n",
    "print(pred)\n",
    "# notice this is a 2d array of length 100, where each interior array is the prediction for the next character at each time step"
   ]
  },
  {
   "cell_type": "code",
   "execution_count": 35,
   "id": "87dc6db2",
   "metadata": {
    "execution": {
     "iopub.execute_input": "2022-09-03T07:28:23.984735Z",
     "iopub.status.busy": "2022-09-03T07:28:23.984365Z",
     "iopub.status.idle": "2022-09-03T07:28:23.993324Z",
     "shell.execute_reply": "2022-09-03T07:28:23.991691Z"
    },
    "papermill": {
     "duration": 0.098096,
     "end_time": "2022-09-03T07:28:23.995760",
     "exception": false,
     "start_time": "2022-09-03T07:28:23.897664",
     "status": "completed"
    },
    "tags": []
   },
   "outputs": [
    {
     "name": "stdout",
     "output_type": "stream",
     "text": [
      "65\n",
      "tf.Tensor(\n",
      "[-0.00112359 -0.00345356  0.00142946  0.00684959 -0.00137744  0.00638073\n",
      "  0.00023113 -0.00249013  0.00149533  0.0017729   0.0002724  -0.0043676\n",
      " -0.0013104  -0.0067938   0.00112225  0.00284601 -0.00162212 -0.00316528\n",
      "  0.00158318  0.00307079  0.0013574  -0.00245419 -0.00376285 -0.00384478\n",
      " -0.00577022  0.00125079 -0.00043798  0.00064073  0.00261784 -0.00095391\n",
      " -0.00143128  0.00193866  0.00103428  0.00312065 -0.00038292  0.00440326\n",
      "  0.00044238  0.00328891  0.00083899 -0.00053602  0.00224771  0.0037993\n",
      " -0.00345692  0.00157511 -0.00553754  0.00318208  0.00219149 -0.00225484\n",
      "  0.0041493   0.00148823 -0.00683836  0.00069711  0.00282644 -0.00128041\n",
      "  0.0044215  -0.00142566  0.00201439 -0.001533    0.00263311 -0.00377581\n",
      "  0.00632846  0.00294136 -0.00118743  0.00280821 -0.00270476], shape=(65,), dtype=float32)\n"
     ]
    }
   ],
   "source": [
    "# and finally well look at a prediction at the first timestep\n",
    "time_pred = pred[0]\n",
    "print(len(time_pred))\n",
    "print(time_pred)\n",
    "# and of course its 65 values representing the probabillity of each character occuring next"
   ]
  },
  {
   "cell_type": "code",
   "execution_count": 36,
   "id": "d5598e3d",
   "metadata": {
    "execution": {
     "iopub.execute_input": "2022-09-03T07:28:24.168862Z",
     "iopub.status.busy": "2022-09-03T07:28:24.168113Z",
     "iopub.status.idle": "2022-09-03T07:28:24.178926Z",
     "shell.execute_reply": "2022-09-03T07:28:24.177897Z"
    },
    "papermill": {
     "duration": 0.098215,
     "end_time": "2022-09-03T07:28:24.181197",
     "exception": false,
     "start_time": "2022-09-03T07:28:24.082982",
     "status": "completed"
    },
    "tags": []
   },
   "outputs": [
    {
     "data": {
      "text/plain": [
       "\"H'Y:.jk$y\\nyomIc ;&!G\\nfdNzWJh\\nxOv$NS?RcNTpNbRBp;Tq.WEe'SFycnAJRl3BDFYNVqYAhVE ERM&3wHTd,GyNW.RRcp-;Tc\""
      ]
     },
     "execution_count": 36,
     "metadata": {},
     "output_type": "execute_result"
    }
   ],
   "source": [
    "# If we want to determine the predicted character we need to sample the output distribution (pick a value based on probabillity)\n",
    "sampled_indices = tf.random.categorical(pred, num_samples=1)\n",
    "\n",
    "# now we can reshape that array and convert all the integers to numbers to see the actual characters\n",
    "sampled_indices = np.reshape(sampled_indices, (1, -1))[0]\n",
    "predicted_chars = int_to_text(sampled_indices)\n",
    "\n",
    "predicted_chars  # and this is what the model predicted for training sequence 1"
   ]
  },
  {
   "cell_type": "code",
   "execution_count": 37,
   "id": "f17a7a35",
   "metadata": {
    "execution": {
     "iopub.execute_input": "2022-09-03T07:28:24.355569Z",
     "iopub.status.busy": "2022-09-03T07:28:24.354456Z",
     "iopub.status.idle": "2022-09-03T07:28:24.360089Z",
     "shell.execute_reply": "2022-09-03T07:28:24.359070Z"
    },
    "papermill": {
     "duration": 0.095005,
     "end_time": "2022-09-03T07:28:24.362229",
     "exception": false,
     "start_time": "2022-09-03T07:28:24.267224",
     "status": "completed"
    },
    "tags": []
   },
   "outputs": [],
   "source": [
    "def loss(labels, logits):\n",
    "    return tf.keras.losses.sparse_categorical_crossentropy(labels, logits, from_logits=True)"
   ]
  },
  {
   "cell_type": "code",
   "execution_count": 38,
   "id": "05f7b90c",
   "metadata": {
    "execution": {
     "iopub.execute_input": "2022-09-03T07:28:24.540382Z",
     "iopub.status.busy": "2022-09-03T07:28:24.539702Z",
     "iopub.status.idle": "2022-09-03T07:28:24.562504Z",
     "shell.execute_reply": "2022-09-03T07:28:24.561410Z"
    },
    "papermill": {
     "duration": 0.1154,
     "end_time": "2022-09-03T07:28:24.564857",
     "exception": false,
     "start_time": "2022-09-03T07:28:24.449457",
     "status": "completed"
    },
    "tags": []
   },
   "outputs": [],
   "source": [
    "model.compile(optimizer='adam', loss=loss)"
   ]
  },
  {
   "cell_type": "markdown",
   "id": "4ea0423c",
   "metadata": {
    "papermill": {
     "duration": 0.164267,
     "end_time": "2022-09-03T07:28:24.848596",
     "exception": false,
     "start_time": "2022-09-03T07:28:24.684329",
     "status": "completed"
    },
    "tags": []
   },
   "source": [
    "### Creating Checkpoints\n",
    "Now we are going to setup and configure our model to save checkpoinst as it trains. This will allow us to load our model from a checkpoint and continue training it."
   ]
  },
  {
   "cell_type": "code",
   "execution_count": 39,
   "id": "aee7187b",
   "metadata": {
    "execution": {
     "iopub.execute_input": "2022-09-03T07:28:25.110101Z",
     "iopub.status.busy": "2022-09-03T07:28:25.109679Z",
     "iopub.status.idle": "2022-09-03T07:28:25.115510Z",
     "shell.execute_reply": "2022-09-03T07:28:25.114598Z"
    },
    "papermill": {
     "duration": 0.141025,
     "end_time": "2022-09-03T07:28:25.119866",
     "exception": false,
     "start_time": "2022-09-03T07:28:24.978841",
     "status": "completed"
    },
    "tags": []
   },
   "outputs": [],
   "source": [
    "# Directory where the checkpoints will be saved\n",
    "checkpoint_dir = './training_checkpoints'\n",
    "# Name of the checkpoint files\n",
    "checkpoint_prefix = os.path.join(checkpoint_dir, \"ckpt_{epoch}\")\n",
    "\n",
    "checkpoint_callback=tf.keras.callbacks.ModelCheckpoint(\n",
    "    filepath=checkpoint_prefix,\n",
    "    save_weights_only=True)"
   ]
  },
  {
   "cell_type": "code",
   "execution_count": 40,
   "id": "8b48b6b7",
   "metadata": {
    "execution": {
     "iopub.execute_input": "2022-09-03T07:28:25.366807Z",
     "iopub.status.busy": "2022-09-03T07:28:25.366428Z",
     "iopub.status.idle": "2022-09-03T07:28:58.372966Z",
     "shell.execute_reply": "2022-09-03T07:28:58.371906Z"
    },
    "papermill": {
     "duration": 33.112409,
     "end_time": "2022-09-03T07:28:58.375518",
     "exception": false,
     "start_time": "2022-09-03T07:28:25.263109",
     "status": "completed"
    },
    "tags": []
   },
   "outputs": [
    {
     "name": "stdout",
     "output_type": "stream",
     "text": [
      "Epoch 1/2\n",
      "172/172 [==============================] - 12s 52ms/step - loss: 2.6424\n",
      "Epoch 2/2\n",
      "172/172 [==============================] - 11s 53ms/step - loss: 1.9362\n"
     ]
    }
   ],
   "source": [
    "#More eopchs will have better result, no overfitting here, in ex 50 or more\n",
    "history = model.fit(data, epochs=2, callbacks=[checkpoint_callback])"
   ]
  },
  {
   "cell_type": "markdown",
   "id": "b801d93a",
   "metadata": {
    "papermill": {
     "duration": 0.103779,
     "end_time": "2022-09-03T07:28:58.580576",
     "exception": false,
     "start_time": "2022-09-03T07:28:58.476797",
     "status": "completed"
    },
    "tags": []
   },
   "source": [
    "### Loading the Model\n",
    "We'll rebuild the model from a checkpoint using a batch_size of 1 so that we can feed one peice of text to the model and have it make a prediction."
   ]
  },
  {
   "cell_type": "code",
   "execution_count": 41,
   "id": "9c28462a",
   "metadata": {
    "execution": {
     "iopub.execute_input": "2022-09-03T07:28:58.790134Z",
     "iopub.status.busy": "2022-09-03T07:28:58.789773Z",
     "iopub.status.idle": "2022-09-03T07:28:59.014266Z",
     "shell.execute_reply": "2022-09-03T07:28:59.013345Z"
    },
    "papermill": {
     "duration": 0.332114,
     "end_time": "2022-09-03T07:28:59.016741",
     "exception": false,
     "start_time": "2022-09-03T07:28:58.684627",
     "status": "completed"
    },
    "tags": []
   },
   "outputs": [],
   "source": [
    "model = build_model(VOCAB_SIZE, EMBEDDING_DIM, RNN_UNITS, batch_size=1)"
   ]
  },
  {
   "cell_type": "markdown",
   "id": "7a3ac167",
   "metadata": {
    "papermill": {
     "duration": 0.102076,
     "end_time": "2022-09-03T07:28:59.264323",
     "exception": false,
     "start_time": "2022-09-03T07:28:59.162247",
     "status": "completed"
    },
    "tags": []
   },
   "source": [
    "We can load **any checkpoint** we want by specifying the exact file to load."
   ]
  },
  {
   "cell_type": "code",
   "execution_count": 42,
   "id": "66622cdc",
   "metadata": {
    "execution": {
     "iopub.execute_input": "2022-09-03T07:28:59.469266Z",
     "iopub.status.busy": "2022-09-03T07:28:59.468886Z",
     "iopub.status.idle": "2022-09-03T07:28:59.501863Z",
     "shell.execute_reply": "2022-09-03T07:28:59.500870Z"
    },
    "papermill": {
     "duration": 0.137511,
     "end_time": "2022-09-03T07:28:59.504498",
     "exception": false,
     "start_time": "2022-09-03T07:28:59.366987",
     "status": "completed"
    },
    "tags": []
   },
   "outputs": [],
   "source": [
    "model.load_weights(tf.train.latest_checkpoint(checkpoint_dir))\n",
    "model.build(tf.TensorShape([1, None]))"
   ]
  },
  {
   "cell_type": "markdown",
   "id": "75aab6d4",
   "metadata": {
    "papermill": {
     "duration": 0.103093,
     "end_time": "2022-09-03T07:28:59.713758",
     "exception": false,
     "start_time": "2022-09-03T07:28:59.610665",
     "status": "completed"
    },
    "tags": []
   },
   "source": [
    "We can load **any checkpoint** we want by specifying the exact file to load."
   ]
  },
  {
   "cell_type": "code",
   "execution_count": 43,
   "id": "50ecedca",
   "metadata": {
    "execution": {
     "iopub.execute_input": "2022-09-03T07:28:59.915570Z",
     "iopub.status.busy": "2022-09-03T07:28:59.915203Z",
     "iopub.status.idle": "2022-09-03T07:28:59.919624Z",
     "shell.execute_reply": "2022-09-03T07:28:59.918583Z"
    },
    "papermill": {
     "duration": 0.106974,
     "end_time": "2022-09-03T07:28:59.921775",
     "exception": false,
     "start_time": "2022-09-03T07:28:59.814801",
     "status": "completed"
    },
    "tags": []
   },
   "outputs": [],
   "source": [
    "#checkpoint_num = 10\n",
    "#model.load_weights(tf.train.load_checkpoint(\"./training_checkpoints/ckpt_\" + str(checkpoint_num)))\n",
    "#model.build(tf.TensorShape([1, None]))"
   ]
  },
  {
   "cell_type": "markdown",
   "id": "8016a140",
   "metadata": {
    "papermill": {
     "duration": 0.101594,
     "end_time": "2022-09-03T07:29:00.131000",
     "exception": false,
     "start_time": "2022-09-03T07:29:00.029406",
     "status": "completed"
    },
    "tags": []
   },
   "source": [
    "### Generating Text\n",
    "Now we can use the lovely function provided by tensorflow to generate some text using any starting string we'd like."
   ]
  },
  {
   "cell_type": "code",
   "execution_count": 44,
   "id": "39df8102",
   "metadata": {
    "execution": {
     "iopub.execute_input": "2022-09-03T07:29:00.335029Z",
     "iopub.status.busy": "2022-09-03T07:29:00.334685Z",
     "iopub.status.idle": "2022-09-03T07:29:00.344215Z",
     "shell.execute_reply": "2022-09-03T07:29:00.343255Z"
    },
    "papermill": {
     "duration": 0.11362,
     "end_time": "2022-09-03T07:29:00.346259",
     "exception": false,
     "start_time": "2022-09-03T07:29:00.232639",
     "status": "completed"
    },
    "tags": []
   },
   "outputs": [],
   "source": [
    "def generate_text(model, start_string):\n",
    "      # Evaluation step (generating text using the learned model)\n",
    "\n",
    "      # Number of characters to generate\n",
    "    num_generate = 800\n",
    "\n",
    "    # Converting our start string to numbers (vectorizing)\n",
    "    input_eval = [char2idx[s] for s in start_string]\n",
    "    input_eval = tf.expand_dims(input_eval, 0)\n",
    "\n",
    "    # Empty string to store our results\n",
    "    text_generated = []\n",
    "\n",
    "  # Low temperatures results in more predictable text.\n",
    "  # Higher temperatures results in more surprising text.\n",
    "  # Experiment to find the best setting.\n",
    "    temperature = 1.0\n",
    "\n",
    "  # Here batch size == 1\n",
    "    model.reset_states()\n",
    "    for i in range(num_generate):\n",
    "        predictions = model(input_eval)\n",
    "      # remove the batch dimension\n",
    "    \n",
    "        predictions = tf.squeeze(predictions, 0)\n",
    "\n",
    "      # using a categorical distribution to predict the character returned by the model\n",
    "        predictions = predictions / temperature\n",
    "        predicted_id = tf.random.categorical(predictions, num_samples=1)[-1,0].numpy()\n",
    "\n",
    "      # We pass the predicted character as the next input to the model\n",
    "      # along with the previous hidden state\n",
    "        input_eval = tf.expand_dims([predicted_id], 0)\n",
    "\n",
    "        text_generated.append(idx2char[predicted_id])\n",
    "\n",
    "    return (start_string + ''.join(text_generated))"
   ]
  },
  {
   "cell_type": "code",
   "execution_count": 45,
   "id": "1be31b89",
   "metadata": {
    "execution": {
     "iopub.execute_input": "2022-09-03T07:29:00.550909Z",
     "iopub.status.busy": "2022-09-03T07:29:00.550522Z",
     "iopub.status.idle": "2022-09-03T07:29:04.355503Z",
     "shell.execute_reply": "2022-09-03T07:29:04.354503Z"
    },
    "papermill": {
     "duration": 3.911243,
     "end_time": "2022-09-03T07:29:04.358010",
     "exception": false,
     "start_time": "2022-09-03T07:29:00.446767",
     "status": "completed"
    },
    "tags": []
   },
   "outputs": [
    {
     "name": "stdout",
     "output_type": "stream",
     "text": [
      "Romeo said.\n",
      "\n",
      "ANLALUS:\n",
      "\n",
      "KICG EDWY:\n",
      "But is, with I ghey birtsel'd sivy if has upooster;\n",
      "But surpivy a provarid, and peiling will his daunting, and our aran to&k I to alpusatees: to-back, year marnary\n",
      "He have her benatpet. Ferring!,\n",
      "\n",
      "MONENSE:\n",
      "Gwidge's,\n",
      "A known bifreade in each his beligainst purecan sweat,\n",
      "Aging no beforl the mysirn; and trie suvil say,\n",
      "Aut fat in this, in. Will, I deay nocesten:\n",
      "Where if trengle my weats, an thet dees.\n",
      "A,\n",
      "Why, arour, groml gruse. and, and thus with so,\n",
      "Allow I stink de sheel to my lifo,\n",
      "Butonigh ot mart?\n",
      "\n",
      "MastiCK:\n",
      "\n",
      "Vise: G, weare our UXUENLET:\n",
      "Mastear, twith with you s use; stan\n",
      "eveith to prink I youbfet,\n",
      "Their inse the my cincuctly fais,\n",
      "Atis plienid, and you Lasty trke a your herpent as with spolan's, I twate yean but fearly\n",
      "And you his oundrech\n",
      "And now plechap gryo\n"
     ]
    }
   ],
   "source": [
    "#inp=input('Type starting string')\n",
    "inp=\"Romeo said\"\n",
    "print(generate_text(model,inp))"
   ]
  },
  {
   "cell_type": "markdown",
   "id": "ca7c3435",
   "metadata": {
    "papermill": {
     "duration": 0.103387,
     "end_time": "2022-09-03T07:29:04.565160",
     "exception": false,
     "start_time": "2022-09-03T07:29:04.461773",
     "status": "completed"
    },
    "tags": []
   },
   "source": [
    "### Words are here are not perfect, you can improve it by training on more epochs"
   ]
  },
  {
   "cell_type": "code",
   "execution_count": null,
   "id": "df0e7a67",
   "metadata": {
    "papermill": {
     "duration": 0.103281,
     "end_time": "2022-09-03T07:29:04.772090",
     "exception": false,
     "start_time": "2022-09-03T07:29:04.668809",
     "status": "completed"
    },
    "tags": []
   },
   "outputs": [],
   "source": []
  }
 ],
 "metadata": {
  "kernelspec": {
   "display_name": "Python 3",
   "language": "python",
   "name": "python3"
  },
  "language_info": {
   "codemirror_mode": {
    "name": "ipython",
    "version": 3
   },
   "file_extension": ".py",
   "mimetype": "text/x-python",
   "name": "python",
   "nbconvert_exporter": "python",
   "pygments_lexer": "ipython3",
   "version": "3.7.12"
  },
  "papermill": {
   "default_parameters": {},
   "duration": 162.62187,
   "end_time": "2022-09-03T07:29:07.731985",
   "environment_variables": {},
   "exception": null,
   "input_path": "__notebook__.ipynb",
   "output_path": "__notebook__.ipynb",
   "parameters": {},
   "start_time": "2022-09-03T07:26:25.110115",
   "version": "2.3.4"
  }
 },
 "nbformat": 4,
 "nbformat_minor": 5
}
