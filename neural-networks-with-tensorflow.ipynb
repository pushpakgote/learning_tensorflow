{
 "cells": [
  {
   "cell_type": "markdown",
   "id": "1d3e1da3",
   "metadata": {
    "papermill": {
     "duration": 0.006274,
     "end_time": "2022-09-02T10:49:15.513127",
     "exception": false,
     "start_time": "2022-09-02T10:49:15.506853",
     "status": "completed"
    },
    "tags": []
   },
   "source": [
    "## Reference\n",
    "\n",
    "Module 2: Introduction to TensorFlow - https://colab.research.google.com/drive/1F_EWVKa8rbMXi3_fG0w7AtcscFq7Hi7B#forceEdit=true&sandboxMode=true\n",
    "<br>📗 Module 3: Core Learning Algorithms - https://colab.research.google.com/drive/15Cyy2H7nT40sGR7TBN5wBvgTd57mVKay#forceEdit=true&sandboxMode=true\n",
    "<br>📘 Module 4: Neural Networks with TensorFlow -   \n",
    "https://colab.research.google.com/drive/1m2cg3D1x3j5vrFc-Cu0gMvc48gWyCOuG#forceEdit=true&sandboxMode=true\n",
    "<br>📙 Module 5: Deep Computer Vision - https://colab.research.google.com/drive/1ZZXnCjFEOkp_KdNcNabd14yok0BAIuwS#forceEdit=true&sandboxMode=true\n",
    "<br>📔 Module 6: Natural Language Processing with RNNs -  https://colab.research.google.com/drive/1ysEKrw_LE2jMndo1snrZUh5w87LQsCxk#forceEdit=true&sandboxMode=true\n",
    "<br>📒 Module 7: Reinforcement Learning - https://colab.research.google.com/drive/1IlrlS3bB8t1Gd5Pogol4MIwUxlAjhWOQ#forceEdit=true&sandboxMode=true\n"
   ]
  },
  {
   "cell_type": "code",
   "execution_count": 1,
   "id": "0460ca14",
   "metadata": {
    "_cell_guid": "b1076dfc-b9ad-4769-8c92-a6c4dae69d19",
    "_uuid": "8f2839f25d086af736a60e9eeb907d3b93b6e0e5",
    "execution": {
     "iopub.execute_input": "2022-09-02T10:49:15.525536Z",
     "iopub.status.busy": "2022-09-02T10:49:15.524819Z",
     "iopub.status.idle": "2022-09-02T10:49:21.732438Z",
     "shell.execute_reply": "2022-09-02T10:49:21.731226Z"
    },
    "papermill": {
     "duration": 6.216909,
     "end_time": "2022-09-02T10:49:21.735236",
     "exception": false,
     "start_time": "2022-09-02T10:49:15.518327",
     "status": "completed"
    },
    "tags": []
   },
   "outputs": [],
   "source": [
    "import numpy as np # linear algebra\n",
    "import pandas as pd # data processing, CSV file I/O (e.g. pd.read_csv)\n",
    "import matplotlib.pyplot as plt\n",
    "\n",
    "\n",
    "import tensorflow as tf\n",
    "from tensorflow import keras"
   ]
  },
  {
   "cell_type": "code",
   "execution_count": 2,
   "id": "d5f0f68a",
   "metadata": {
    "execution": {
     "iopub.execute_input": "2022-09-02T10:49:21.746852Z",
     "iopub.status.busy": "2022-09-02T10:49:21.745998Z",
     "iopub.status.idle": "2022-09-02T10:49:25.454463Z",
     "shell.execute_reply": "2022-09-02T10:49:25.452731Z"
    },
    "papermill": {
     "duration": 3.717818,
     "end_time": "2022-09-02T10:49:25.457631",
     "exception": false,
     "start_time": "2022-09-02T10:49:21.739813",
     "status": "completed"
    },
    "tags": []
   },
   "outputs": [
    {
     "name": "stdout",
     "output_type": "stream",
     "text": [
      "Downloading data from https://storage.googleapis.com/tensorflow/tf-keras-datasets/train-labels-idx1-ubyte.gz\n",
      "32768/29515 [=================================] - 0s 0us/step\n",
      "40960/29515 [=========================================] - 0s 0us/step\n",
      "Downloading data from https://storage.googleapis.com/tensorflow/tf-keras-datasets/train-images-idx3-ubyte.gz\n",
      "26427392/26421880 [==============================] - 0s 0us/step\n",
      "26435584/26421880 [==============================] - 0s 0us/step\n",
      "Downloading data from https://storage.googleapis.com/tensorflow/tf-keras-datasets/t10k-labels-idx1-ubyte.gz\n",
      "16384/5148 [===============================================================================================] - 0s 0us/step\n",
      "Downloading data from https://storage.googleapis.com/tensorflow/tf-keras-datasets/t10k-images-idx3-ubyte.gz\n",
      "4423680/4422102 [==============================] - 0s 0us/step\n",
      "4431872/4422102 [==============================] - 0s 0us/step\n"
     ]
    }
   ],
   "source": [
    "fashion_mnist=keras.datasets.fashion_mnist\n",
    "(train_images, train_labels), (test_images, test_labels)=fashion_mnist.load_data()  # Split train and test"
   ]
  },
  {
   "cell_type": "code",
   "execution_count": 3,
   "id": "11e95147",
   "metadata": {
    "execution": {
     "iopub.execute_input": "2022-09-02T10:49:25.472309Z",
     "iopub.status.busy": "2022-09-02T10:49:25.471196Z",
     "iopub.status.idle": "2022-09-02T10:49:25.477602Z",
     "shell.execute_reply": "2022-09-02T10:49:25.476563Z"
    },
    "papermill": {
     "duration": 0.016253,
     "end_time": "2022-09-02T10:49:25.480228",
     "exception": false,
     "start_time": "2022-09-02T10:49:25.463975",
     "status": "completed"
    },
    "tags": []
   },
   "outputs": [],
   "source": [
    "class_names = ['T-shirt/top', 'Trouser', 'Pullover', 'Dress', 'Coat',\n",
    "               'Sandal', 'Shirt', 'Sneaker', 'Bag', 'Ankle boot']"
   ]
  },
  {
   "cell_type": "code",
   "execution_count": 4,
   "id": "a8d75285",
   "metadata": {
    "execution": {
     "iopub.execute_input": "2022-09-02T10:49:25.493989Z",
     "iopub.status.busy": "2022-09-02T10:49:25.492986Z",
     "iopub.status.idle": "2022-09-02T10:49:25.794833Z",
     "shell.execute_reply": "2022-09-02T10:49:25.793672Z"
    },
    "papermill": {
     "duration": 0.312476,
     "end_time": "2022-09-02T10:49:25.798280",
     "exception": false,
     "start_time": "2022-09-02T10:49:25.485804",
     "status": "completed"
    },
    "tags": []
   },
   "outputs": [
    {
     "data": {
      "image/png": "[encoded data removed]",
      "text/plain": [
       "<Figure size 432x288 with 2 Axes>"
      ]
     },
     "metadata": {
      "needs_background": "light"
     },
     "output_type": "display_data"
    },
    {
     "name": "stdout",
     "output_type": "stream",
     "text": [
      "This is :  Pullover   train_label :  2\n"
     ]
    }
   ],
   "source": [
    "plt.figure()\n",
    "plt.imshow(train_images[5])\n",
    "plt.colorbar()\n",
    "plt.show()\n",
    "print('This is : ',class_names[train_labels[5]],'  train_label : ',train_labels[5])"
   ]
  },
  {
   "cell_type": "code",
   "execution_count": 5,
   "id": "028b207c",
   "metadata": {
    "execution": {
     "iopub.execute_input": "2022-09-02T10:49:25.812288Z",
     "iopub.status.busy": "2022-09-02T10:49:25.811706Z",
     "iopub.status.idle": "2022-09-02T10:49:25.821459Z",
     "shell.execute_reply": "2022-09-02T10:49:25.820140Z"
    },
    "papermill": {
     "duration": 0.019394,
     "end_time": "2022-09-02T10:49:25.823955",
     "exception": false,
     "start_time": "2022-09-02T10:49:25.804561",
     "status": "completed"
    },
    "tags": []
   },
   "outputs": [
    {
     "data": {
      "text/plain": [
       "194"
      ]
     },
     "execution_count": 5,
     "metadata": {},
     "output_type": "execute_result"
    }
   ],
   "source": [
    "train_images[0,23,23]"
   ]
  },
  {
   "cell_type": "code",
   "execution_count": 6,
   "id": "4f4f0c5a",
   "metadata": {
    "execution": {
     "iopub.execute_input": "2022-09-02T10:49:25.837744Z",
     "iopub.status.busy": "2022-09-02T10:49:25.837332Z",
     "iopub.status.idle": "2022-09-02T10:49:26.036399Z",
     "shell.execute_reply": "2022-09-02T10:49:26.034937Z"
    },
    "papermill": {
     "duration": 0.209152,
     "end_time": "2022-09-02T10:49:26.039113",
     "exception": false,
     "start_time": "2022-09-02T10:49:25.829961",
     "status": "completed"
    },
    "tags": []
   },
   "outputs": [],
   "source": [
    "train_images = train_images / 255.0\n",
    "\n",
    "test_images = test_images / 255.0"
   ]
  },
  {
   "cell_type": "code",
   "execution_count": 7,
   "id": "78adff93",
   "metadata": {
    "execution": {
     "iopub.execute_input": "2022-09-02T10:49:26.053082Z",
     "iopub.status.busy": "2022-09-02T10:49:26.052691Z",
     "iopub.status.idle": "2022-09-02T10:49:26.183588Z",
     "shell.execute_reply": "2022-09-02T10:49:26.181220Z"
    },
    "papermill": {
     "duration": 0.141022,
     "end_time": "2022-09-02T10:49:26.186419",
     "exception": false,
     "start_time": "2022-09-02T10:49:26.045397",
     "status": "completed"
    },
    "tags": []
   },
   "outputs": [
    {
     "name": "stderr",
     "output_type": "stream",
     "text": [
      "2022-09-02 10:49:26.099124: I tensorflow/core/common_runtime/process_util.cc:146] Creating new thread pool with default inter op setting: 2. Tune using inter_op_parallelism_threads for best performance.\n"
     ]
    }
   ],
   "source": [
    "model = keras.Sequential([\n",
    "    keras.layers.Flatten(input_shape=(28, 28)),  # input layer (1)\n",
    "    keras.layers.Dense(128, activation='relu'),  # hidden layer (2)\n",
    "    keras.layers.Dense(10, activation='softmax') # output layer (3)\n",
    "])"
   ]
  },
  {
   "cell_type": "code",
   "execution_count": 8,
   "id": "d4375923",
   "metadata": {
    "execution": {
     "iopub.execute_input": "2022-09-02T10:49:26.201228Z",
     "iopub.status.busy": "2022-09-02T10:49:26.200769Z",
     "iopub.status.idle": "2022-09-02T10:49:26.394345Z",
     "shell.execute_reply": "2022-09-02T10:49:26.393033Z"
    },
    "papermill": {
     "duration": 0.203958,
     "end_time": "2022-09-02T10:49:26.397098",
     "exception": false,
     "start_time": "2022-09-02T10:49:26.193140",
     "status": "completed"
    },
    "tags": []
   },
   "outputs": [],
   "source": [
    "model.compile(optimizer='adam',\n",
    "              loss='sparse_categorical_crossentropy',\n",
    "              metrics=['accuracy'])"
   ]
  },
  {
   "cell_type": "code",
   "execution_count": 9,
   "id": "b12670b2",
   "metadata": {
    "execution": {
     "iopub.execute_input": "2022-09-02T10:49:26.411103Z",
     "iopub.status.busy": "2022-09-02T10:49:26.410703Z",
     "iopub.status.idle": "2022-09-02T10:49:32.271854Z",
     "shell.execute_reply": "2022-09-02T10:49:32.270679Z"
    },
    "papermill": {
     "duration": 5.871379,
     "end_time": "2022-09-02T10:49:32.274473",
     "exception": false,
     "start_time": "2022-09-02T10:49:26.403094",
     "status": "completed"
    },
    "tags": []
   },
   "outputs": [
    {
     "name": "stderr",
     "output_type": "stream",
     "text": [
      "2022-09-02 10:49:26.814000: I tensorflow/compiler/mlir/mlir_graph_optimization_pass.cc:185] None of the MLIR Optimization Passes are enabled (registered 2)\n"
     ]
    },
    {
     "name": "stdout",
     "output_type": "stream",
     "text": [
      "1875/1875 [==============================] - 5s 3ms/step - loss: 0.4966 - accuracy: 0.8266\n"
     ]
    },
    {
     "data": {
      "text/plain": [
       "<keras.callbacks.History at 0x7f2c76c16390>"
      ]
     },
     "execution_count": 9,
     "metadata": {},
     "output_type": "execute_result"
    }
   ],
   "source": [
    "model.fit(train_images, train_labels, epochs=1)  # we pass the data, labels and epochs and watch the magic!"
   ]
  },
  {
   "cell_type": "code",
   "execution_count": 10,
   "id": "2743b3ec",
   "metadata": {
    "execution": {
     "iopub.execute_input": "2022-09-02T10:49:32.301632Z",
     "iopub.status.busy": "2022-09-02T10:49:32.300878Z",
     "iopub.status.idle": "2022-09-02T10:49:33.088873Z",
     "shell.execute_reply": "2022-09-02T10:49:33.087531Z"
    },
    "papermill": {
     "duration": 0.804874,
     "end_time": "2022-09-02T10:49:33.091870",
     "exception": false,
     "start_time": "2022-09-02T10:49:32.286996",
     "status": "completed"
    },
    "tags": []
   },
   "outputs": [
    {
     "name": "stdout",
     "output_type": "stream",
     "text": [
      "313/313 [==============================] - 1s 2ms/step - loss: 0.4221 - accuracy: 0.8483\n",
      "Test loss: 0.42206722497940063    Test accuracy: 0.8482999801635742\n"
     ]
    }
   ],
   "source": [
    "test_loss, test_acc = model.evaluate(test_images,  test_labels, verbose=1) \n",
    "\n",
    "print('Test loss:',test_loss,'   Test accuracy:', test_acc)"
   ]
  },
  {
   "cell_type": "code",
   "execution_count": 11,
   "id": "35133fe1",
   "metadata": {
    "execution": {
     "iopub.execute_input": "2022-09-02T10:49:33.119869Z",
     "iopub.status.busy": "2022-09-02T10:49:33.119189Z",
     "iopub.status.idle": "2022-09-02T10:49:33.621987Z",
     "shell.execute_reply": "2022-09-02T10:49:33.620812Z"
    },
    "papermill": {
     "duration": 0.519771,
     "end_time": "2022-09-02T10:49:33.624714",
     "exception": false,
     "start_time": "2022-09-02T10:49:33.104943",
     "status": "completed"
    },
    "tags": []
   },
   "outputs": [],
   "source": [
    "predictions = model.predict(test_images)"
   ]
  },
  {
   "cell_type": "code",
   "execution_count": 12,
   "id": "880def56",
   "metadata": {
    "execution": {
     "iopub.execute_input": "2022-09-02T10:49:33.655075Z",
     "iopub.status.busy": "2022-09-02T10:49:33.654412Z",
     "iopub.status.idle": "2022-09-02T10:49:33.662005Z",
     "shell.execute_reply": "2022-09-02T10:49:33.660950Z"
    },
    "papermill": {
     "duration": 0.025857,
     "end_time": "2022-09-02T10:49:33.664266",
     "exception": false,
     "start_time": "2022-09-02T10:49:33.638409",
     "status": "completed"
    },
    "tags": []
   },
   "outputs": [
    {
     "data": {
      "text/plain": [
       "(9, 9)"
      ]
     },
     "execution_count": 12,
     "metadata": {},
     "output_type": "execute_result"
    }
   ],
   "source": [
    "np.argmax(predictions[0]),test_labels[0]"
   ]
  },
  {
   "cell_type": "code",
   "execution_count": 13,
   "id": "54728cd0",
   "metadata": {
    "execution": {
     "iopub.execute_input": "2022-09-02T10:49:33.692833Z",
     "iopub.status.busy": "2022-09-02T10:49:33.692144Z",
     "iopub.status.idle": "2022-09-02T10:49:33.962292Z",
     "shell.execute_reply": "2022-09-02T10:49:33.960862Z"
    },
    "papermill": {
     "duration": 0.287954,
     "end_time": "2022-09-02T10:49:33.964929",
     "exception": false,
     "start_time": "2022-09-02T10:49:33.676975",
     "status": "completed"
    },
    "tags": []
   },
   "outputs": [
    {
     "data": {
      "image/png": "[encoded data removed]",
      "text/plain": [
       "<Figure size 432x288 with 2 Axes>"
      ]
     },
     "metadata": {
      "needs_background": "light"
     },
     "output_type": "display_data"
    },
    {
     "name": "stdout",
     "output_type": "stream",
     "text": [
      "This is :  Trouser   train_label :  1    Prediction label:  1\n"
     ]
    }
   ],
   "source": [
    "plt.figure()\n",
    "plt.imshow(test_images[5])\n",
    "plt.colorbar()\n",
    "plt.show()\n",
    "print('This is : ',class_names[test_labels[5]],'  train_label : ',test_labels[5],'   Prediction label: ',np.argmax(predictions[5]))"
   ]
  },
  {
   "cell_type": "code",
   "execution_count": null,
   "id": "34fe5849",
   "metadata": {
    "papermill": {
     "duration": 0.012854,
     "end_time": "2022-09-02T10:49:33.991660",
     "exception": false,
     "start_time": "2022-09-02T10:49:33.978806",
     "status": "completed"
    },
    "tags": []
   },
   "outputs": [],
   "source": []
  }
 ],
 "metadata": {
  "kernelspec": {
   "display_name": "Python 3",
   "language": "python",
   "name": "python3"
  },
  "language_info": {
   "codemirror_mode": {
    "name": "ipython",
    "version": 3
   },
   "file_extension": ".py",
   "mimetype": "text/x-python",
   "name": "python",
   "nbconvert_exporter": "python",
   "pygments_lexer": "ipython3",
   "version": "3.7.12"
  },
  "papermill": {
   "default_parameters": {},
   "duration": 31.220863,
   "end_time": "2022-09-02T10:49:36.760959",
   "environment_variables": {},
   "exception": null,
   "input_path": "__notebook__.ipynb",
   "output_path": "__notebook__.ipynb",
   "parameters": {},
   "start_time": "2022-09-02T10:49:05.540096",
   "version": "2.3.4"
  }
 },
 "nbformat": 4,
 "nbformat_minor": 5
}
