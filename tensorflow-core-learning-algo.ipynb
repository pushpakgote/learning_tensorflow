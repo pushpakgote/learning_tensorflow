{
 "cells": [
  {
   "cell_type": "markdown",
   "id": "dcfe0d31",
   "metadata": {
    "papermill": {
     "duration": 0.01322,
     "end_time": "2022-09-02T06:22:21.150233",
     "exception": false,
     "start_time": "2022-09-02T06:22:21.137013",
     "status": "completed"
    },
    "tags": []
   },
   "source": [
    "## Reference\n",
    "\n",
    "Module 2: Introduction to TensorFlow - https://colab.research.google.com/drive/1F_EWVKa8rbMXi3_fG0w7AtcscFq7Hi7B#forceEdit=true&sandboxMode=true\n",
    "<br>📗 Module 3: Core Learning Algorithms - https://colab.research.google.com/drive/15Cyy2H7nT40sGR7TBN5wBvgTd57mVKay#forceEdit=true&sandboxMode=true\n",
    "<br>📘 Module 4: Neural Networks with TensorFlow -   \n",
    "https://colab.research.google.com/drive/1m2cg3D1x3j5vrFc-Cu0gMvc48gWyCOuG#forceEdit=true&sandboxMode=true\n",
    "<br>📙 Module 5: Deep Computer Vision - https://colab.research.google.com/drive/1ZZXnCjFEOkp_KdNcNabd14yok0BAIuwS#forceEdit=true&sandboxMode=true\n",
    "<br>📔 Module 6: Natural Language Processing with RNNs -  https://colab.research.google.com/drive/1ysEKrw_LE2jMndo1snrZUh5w87LQsCxk#forceEdit=true&sandboxMode=true\n",
    "<br>📒 Module 7: Reinforcement Learning - https://colab.research.google.com/drive/1IlrlS3bB8t1Gd5Pogol4MIwUxlAjhWOQ#forceEdit=true&sandboxMode=true\n"
   ]
  },
  {
   "cell_type": "code",
   "execution_count": 1,
   "id": "03f11bf0",
   "metadata": {
    "_cell_guid": "b1076dfc-b9ad-4769-8c92-a6c4dae69d19",
    "_uuid": "8f2839f25d086af736a60e9eeb907d3b93b6e0e5",
    "execution": {
     "iopub.execute_input": "2022-09-02T06:22:21.176617Z",
     "iopub.status.busy": "2022-09-02T06:22:21.175571Z",
     "iopub.status.idle": "2022-09-02T06:22:27.457992Z",
     "shell.execute_reply": "2022-09-02T06:22:27.456541Z"
    },
    "papermill": {
     "duration": 6.299618,
     "end_time": "2022-09-02T06:22:27.461655",
     "exception": false,
     "start_time": "2022-09-02T06:22:21.162037",
     "status": "completed"
    },
    "tags": []
   },
   "outputs": [],
   "source": [
    "import numpy as np # linear algebra\n",
    "import pandas as pd # data processing, CSV file I/O (e.g. pd.read_csv)\n",
    "import tensorflow as tf"
   ]
  },
  {
   "cell_type": "code",
   "execution_count": 2,
   "id": "70961fdc",
   "metadata": {
    "execution": {
     "iopub.execute_input": "2022-09-02T06:22:27.487417Z",
     "iopub.status.busy": "2022-09-02T06:22:27.486727Z",
     "iopub.status.idle": "2022-09-02T06:22:27.521737Z",
     "shell.execute_reply": "2022-09-02T06:22:27.520508Z"
    },
    "papermill": {
     "duration": 0.051136,
     "end_time": "2022-09-02T06:22:27.524620",
     "exception": false,
     "start_time": "2022-09-02T06:22:27.473484",
     "status": "completed"
    },
    "tags": []
   },
   "outputs": [],
   "source": [
    "df_train=pd.read_csv('../input/titanic-dataset-from-kaggle/train.csv')\n",
    "df_test=pd.read_csv('../input/titanic-dataset-from-kaggle/test.csv')"
   ]
  },
  {
   "cell_type": "code",
   "execution_count": 3,
   "id": "81e449de",
   "metadata": {
    "execution": {
     "iopub.execute_input": "2022-09-02T06:22:27.550823Z",
     "iopub.status.busy": "2022-09-02T06:22:27.550416Z",
     "iopub.status.idle": "2022-09-02T06:22:27.555039Z",
     "shell.execute_reply": "2022-09-02T06:22:27.554164Z"
    },
    "papermill": {
     "duration": 0.019864,
     "end_time": "2022-09-02T06:22:27.557255",
     "exception": false,
     "start_time": "2022-09-02T06:22:27.537391",
     "status": "completed"
    },
    "tags": []
   },
   "outputs": [],
   "source": [
    "remove_cols=['PassengerId',  'Name', 'Ticket', 'Cabin',]"
   ]
  },
  {
   "cell_type": "code",
   "execution_count": 4,
   "id": "5c324f77",
   "metadata": {
    "execution": {
     "iopub.execute_input": "2022-09-02T06:22:27.582253Z",
     "iopub.status.busy": "2022-09-02T06:22:27.581534Z",
     "iopub.status.idle": "2022-09-02T06:22:27.598302Z",
     "shell.execute_reply": "2022-09-02T06:22:27.597268Z"
    },
    "papermill": {
     "duration": 0.031946,
     "end_time": "2022-09-02T06:22:27.600796",
     "exception": false,
     "start_time": "2022-09-02T06:22:27.568850",
     "status": "completed"
    },
    "tags": []
   },
   "outputs": [],
   "source": [
    "y_train=df_train['Survived']\n",
    "X_train=df_train.drop(remove_cols+['Survived'],axis=1)\n",
    "X_test=df_test.drop(remove_cols,axis=1)"
   ]
  },
  {
   "cell_type": "code",
   "execution_count": 5,
   "id": "a63d4023",
   "metadata": {
    "execution": {
     "iopub.execute_input": "2022-09-02T06:22:27.625702Z",
     "iopub.status.busy": "2022-09-02T06:22:27.625089Z",
     "iopub.status.idle": "2022-09-02T06:22:27.665006Z",
     "shell.execute_reply": "2022-09-02T06:22:27.663825Z"
    },
    "papermill": {
     "duration": 0.056185,
     "end_time": "2022-09-02T06:22:27.668387",
     "exception": false,
     "start_time": "2022-09-02T06:22:27.612202",
     "status": "completed"
    },
    "tags": []
   },
   "outputs": [
    {
     "data": {
      "text/html": [
       "<div>\n",
       "<style scoped>\n",
       "    .dataframe tbody tr th:only-of-type {\n",
       "        vertical-align: middle;\n",
       "    }\n",
       "\n",
       "    .dataframe tbody tr th {\n",
       "        vertical-align: top;\n",
       "    }\n",
       "\n",
       "    .dataframe thead th {\n",
       "        text-align: right;\n",
       "    }\n",
       "</style>\n",
       "<table border=\"1\" class=\"dataframe\">\n",
       "  <thead>\n",
       "    <tr style=\"text-align: right;\">\n",
       "      <th></th>\n",
       "      <th>Pclass</th>\n",
       "      <th>Age</th>\n",
       "      <th>SibSp</th>\n",
       "      <th>Parch</th>\n",
       "      <th>Fare</th>\n",
       "    </tr>\n",
       "  </thead>\n",
       "  <tbody>\n",
       "    <tr>\n",
       "      <th>count</th>\n",
       "      <td>891.000000</td>\n",
       "      <td>714.000000</td>\n",
       "      <td>891.000000</td>\n",
       "      <td>891.000000</td>\n",
       "      <td>891.000000</td>\n",
       "    </tr>\n",
       "    <tr>\n",
       "      <th>mean</th>\n",
       "      <td>2.308642</td>\n",
       "      <td>29.699118</td>\n",
       "      <td>0.523008</td>\n",
       "      <td>0.381594</td>\n",
       "      <td>32.204208</td>\n",
       "    </tr>\n",
       "    <tr>\n",
       "      <th>std</th>\n",
       "      <td>0.836071</td>\n",
       "      <td>14.526497</td>\n",
       "      <td>1.102743</td>\n",
       "      <td>0.806057</td>\n",
       "      <td>49.693429</td>\n",
       "    </tr>\n",
       "    <tr>\n",
       "      <th>min</th>\n",
       "      <td>1.000000</td>\n",
       "      <td>0.420000</td>\n",
       "      <td>0.000000</td>\n",
       "      <td>0.000000</td>\n",
       "      <td>0.000000</td>\n",
       "    </tr>\n",
       "    <tr>\n",
       "      <th>25%</th>\n",
       "      <td>2.000000</td>\n",
       "      <td>20.125000</td>\n",
       "      <td>0.000000</td>\n",
       "      <td>0.000000</td>\n",
       "      <td>7.910400</td>\n",
       "    </tr>\n",
       "    <tr>\n",
       "      <th>50%</th>\n",
       "      <td>3.000000</td>\n",
       "      <td>28.000000</td>\n",
       "      <td>0.000000</td>\n",
       "      <td>0.000000</td>\n",
       "      <td>14.454200</td>\n",
       "    </tr>\n",
       "    <tr>\n",
       "      <th>75%</th>\n",
       "      <td>3.000000</td>\n",
       "      <td>38.000000</td>\n",
       "      <td>1.000000</td>\n",
       "      <td>0.000000</td>\n",
       "      <td>31.000000</td>\n",
       "    </tr>\n",
       "    <tr>\n",
       "      <th>max</th>\n",
       "      <td>3.000000</td>\n",
       "      <td>80.000000</td>\n",
       "      <td>8.000000</td>\n",
       "      <td>6.000000</td>\n",
       "      <td>512.329200</td>\n",
       "    </tr>\n",
       "  </tbody>\n",
       "</table>\n",
       "</div>"
      ],
      "text/plain": [
       "           Pclass         Age       SibSp       Parch        Fare\n",
       "count  891.000000  714.000000  891.000000  891.000000  891.000000\n",
       "mean     2.308642   29.699118    0.523008    0.381594   32.204208\n",
       "std      0.836071   14.526497    1.102743    0.806057   49.693429\n",
       "min      1.000000    0.420000    0.000000    0.000000    0.000000\n",
       "25%      2.000000   20.125000    0.000000    0.000000    7.910400\n",
       "50%      3.000000   28.000000    0.000000    0.000000   14.454200\n",
       "75%      3.000000   38.000000    1.000000    0.000000   31.000000\n",
       "max      3.000000   80.000000    8.000000    6.000000  512.329200"
      ]
     },
     "execution_count": 5,
     "metadata": {},
     "output_type": "execute_result"
    }
   ],
   "source": [
    "X_train.describe()"
   ]
  },
  {
   "cell_type": "code",
   "execution_count": 6,
   "id": "25738756",
   "metadata": {
    "execution": {
     "iopub.execute_input": "2022-09-02T06:22:27.693793Z",
     "iopub.status.busy": "2022-09-02T06:22:27.693389Z",
     "iopub.status.idle": "2022-09-02T06:22:28.066949Z",
     "shell.execute_reply": "2022-09-02T06:22:28.065656Z"
    },
    "papermill": {
     "duration": 0.38936,
     "end_time": "2022-09-02T06:22:28.069524",
     "exception": false,
     "start_time": "2022-09-02T06:22:27.680164",
     "status": "completed"
    },
    "tags": []
   },
   "outputs": [
    {
     "data": {
      "text/plain": [
       "<AxesSubplot:>"
      ]
     },
     "execution_count": 6,
     "metadata": {},
     "output_type": "execute_result"
    },
    {
     "data": {
      "image/png": "[encoded data removed]",
      "text/plain": [
       "<Figure size 432x288 with 1 Axes>"
      ]
     },
     "metadata": {
      "needs_background": "light"
     },
     "output_type": "display_data"
    }
   ],
   "source": [
    "X_train.Age.hist(bins=50)"
   ]
  },
  {
   "cell_type": "code",
   "execution_count": 7,
   "id": "2e33353b",
   "metadata": {
    "execution": {
     "iopub.execute_input": "2022-09-02T06:22:28.095741Z",
     "iopub.status.busy": "2022-09-02T06:22:28.094862Z",
     "iopub.status.idle": "2022-09-02T06:22:28.106070Z",
     "shell.execute_reply": "2022-09-02T06:22:28.104688Z"
    },
    "papermill": {
     "duration": 0.026977,
     "end_time": "2022-09-02T06:22:28.108562",
     "exception": false,
     "start_time": "2022-09-02T06:22:28.081585",
     "status": "completed"
    },
    "tags": []
   },
   "outputs": [
    {
     "data": {
      "text/plain": [
       "Pclass        0\n",
       "Sex           0\n",
       "Age         177\n",
       "SibSp         0\n",
       "Parch         0\n",
       "Fare          0\n",
       "Embarked      2\n",
       "dtype: int64"
      ]
     },
     "execution_count": 7,
     "metadata": {},
     "output_type": "execute_result"
    }
   ],
   "source": [
    "X_train.isna().sum()"
   ]
  },
  {
   "cell_type": "code",
   "execution_count": 8,
   "id": "544643a6",
   "metadata": {
    "execution": {
     "iopub.execute_input": "2022-09-02T06:22:28.134600Z",
     "iopub.status.busy": "2022-09-02T06:22:28.134224Z",
     "iopub.status.idle": "2022-09-02T06:22:28.154376Z",
     "shell.execute_reply": "2022-09-02T06:22:28.153182Z"
    },
    "papermill": {
     "duration": 0.036372,
     "end_time": "2022-09-02T06:22:28.157085",
     "exception": false,
     "start_time": "2022-09-02T06:22:28.120713",
     "status": "completed"
    },
    "tags": []
   },
   "outputs": [
    {
     "data": {
      "text/html": [
       "<div>\n",
       "<style scoped>\n",
       "    .dataframe tbody tr th:only-of-type {\n",
       "        vertical-align: middle;\n",
       "    }\n",
       "\n",
       "    .dataframe tbody tr th {\n",
       "        vertical-align: top;\n",
       "    }\n",
       "\n",
       "    .dataframe thead th {\n",
       "        text-align: right;\n",
       "    }\n",
       "</style>\n",
       "<table border=\"1\" class=\"dataframe\">\n",
       "  <thead>\n",
       "    <tr style=\"text-align: right;\">\n",
       "      <th></th>\n",
       "      <th>Pclass</th>\n",
       "      <th>Sex</th>\n",
       "      <th>Age</th>\n",
       "      <th>SibSp</th>\n",
       "      <th>Parch</th>\n",
       "      <th>Fare</th>\n",
       "      <th>Embarked</th>\n",
       "    </tr>\n",
       "  </thead>\n",
       "  <tbody>\n",
       "    <tr>\n",
       "      <th>0</th>\n",
       "      <td>3</td>\n",
       "      <td>male</td>\n",
       "      <td>22.0</td>\n",
       "      <td>1</td>\n",
       "      <td>0</td>\n",
       "      <td>7.2500</td>\n",
       "      <td>S</td>\n",
       "    </tr>\n",
       "    <tr>\n",
       "      <th>1</th>\n",
       "      <td>1</td>\n",
       "      <td>female</td>\n",
       "      <td>38.0</td>\n",
       "      <td>1</td>\n",
       "      <td>0</td>\n",
       "      <td>71.2833</td>\n",
       "      <td>C</td>\n",
       "    </tr>\n",
       "    <tr>\n",
       "      <th>2</th>\n",
       "      <td>3</td>\n",
       "      <td>female</td>\n",
       "      <td>26.0</td>\n",
       "      <td>0</td>\n",
       "      <td>0</td>\n",
       "      <td>7.9250</td>\n",
       "      <td>S</td>\n",
       "    </tr>\n",
       "    <tr>\n",
       "      <th>3</th>\n",
       "      <td>1</td>\n",
       "      <td>female</td>\n",
       "      <td>35.0</td>\n",
       "      <td>1</td>\n",
       "      <td>0</td>\n",
       "      <td>53.1000</td>\n",
       "      <td>S</td>\n",
       "    </tr>\n",
       "    <tr>\n",
       "      <th>4</th>\n",
       "      <td>3</td>\n",
       "      <td>male</td>\n",
       "      <td>35.0</td>\n",
       "      <td>0</td>\n",
       "      <td>0</td>\n",
       "      <td>8.0500</td>\n",
       "      <td>S</td>\n",
       "    </tr>\n",
       "    <tr>\n",
       "      <th>...</th>\n",
       "      <td>...</td>\n",
       "      <td>...</td>\n",
       "      <td>...</td>\n",
       "      <td>...</td>\n",
       "      <td>...</td>\n",
       "      <td>...</td>\n",
       "      <td>...</td>\n",
       "    </tr>\n",
       "    <tr>\n",
       "      <th>886</th>\n",
       "      <td>2</td>\n",
       "      <td>male</td>\n",
       "      <td>27.0</td>\n",
       "      <td>0</td>\n",
       "      <td>0</td>\n",
       "      <td>13.0000</td>\n",
       "      <td>S</td>\n",
       "    </tr>\n",
       "    <tr>\n",
       "      <th>887</th>\n",
       "      <td>1</td>\n",
       "      <td>female</td>\n",
       "      <td>19.0</td>\n",
       "      <td>0</td>\n",
       "      <td>0</td>\n",
       "      <td>30.0000</td>\n",
       "      <td>S</td>\n",
       "    </tr>\n",
       "    <tr>\n",
       "      <th>888</th>\n",
       "      <td>3</td>\n",
       "      <td>female</td>\n",
       "      <td>NaN</td>\n",
       "      <td>1</td>\n",
       "      <td>2</td>\n",
       "      <td>23.4500</td>\n",
       "      <td>S</td>\n",
       "    </tr>\n",
       "    <tr>\n",
       "      <th>889</th>\n",
       "      <td>1</td>\n",
       "      <td>male</td>\n",
       "      <td>26.0</td>\n",
       "      <td>0</td>\n",
       "      <td>0</td>\n",
       "      <td>30.0000</td>\n",
       "      <td>C</td>\n",
       "    </tr>\n",
       "    <tr>\n",
       "      <th>890</th>\n",
       "      <td>3</td>\n",
       "      <td>male</td>\n",
       "      <td>32.0</td>\n",
       "      <td>0</td>\n",
       "      <td>0</td>\n",
       "      <td>7.7500</td>\n",
       "      <td>Q</td>\n",
       "    </tr>\n",
       "  </tbody>\n",
       "</table>\n",
       "<p>891 rows × 7 columns</p>\n",
       "</div>"
      ],
      "text/plain": [
       "     Pclass     Sex   Age  SibSp  Parch     Fare Embarked\n",
       "0         3    male  22.0      1      0   7.2500        S\n",
       "1         1  female  38.0      1      0  71.2833        C\n",
       "2         3  female  26.0      0      0   7.9250        S\n",
       "3         1  female  35.0      1      0  53.1000        S\n",
       "4         3    male  35.0      0      0   8.0500        S\n",
       "..      ...     ...   ...    ...    ...      ...      ...\n",
       "886       2    male  27.0      0      0  13.0000        S\n",
       "887       1  female  19.0      0      0  30.0000        S\n",
       "888       3  female   NaN      1      2  23.4500        S\n",
       "889       1    male  26.0      0      0  30.0000        C\n",
       "890       3    male  32.0      0      0   7.7500        Q\n",
       "\n",
       "[891 rows x 7 columns]"
      ]
     },
     "execution_count": 8,
     "metadata": {},
     "output_type": "execute_result"
    }
   ],
   "source": [
    "X_train"
   ]
  },
  {
   "cell_type": "code",
   "execution_count": 9,
   "id": "7cb96ce6",
   "metadata": {
    "execution": {
     "iopub.execute_input": "2022-09-02T06:22:28.184284Z",
     "iopub.status.busy": "2022-09-02T06:22:28.183901Z",
     "iopub.status.idle": "2022-09-02T06:22:28.193045Z",
     "shell.execute_reply": "2022-09-02T06:22:28.191890Z"
    },
    "papermill": {
     "duration": 0.025445,
     "end_time": "2022-09-02T06:22:28.195370",
     "exception": false,
     "start_time": "2022-09-02T06:22:28.169925",
     "status": "completed"
    },
    "tags": []
   },
   "outputs": [
    {
     "data": {
      "text/plain": [
       "Pclass        0\n",
       "Sex           0\n",
       "Age         177\n",
       "SibSp         0\n",
       "Parch         0\n",
       "Fare          0\n",
       "Embarked      2\n",
       "dtype: int64"
      ]
     },
     "execution_count": 9,
     "metadata": {},
     "output_type": "execute_result"
    }
   ],
   "source": [
    "X_train.isna().sum()"
   ]
  },
  {
   "cell_type": "code",
   "execution_count": 10,
   "id": "c0165a8b",
   "metadata": {
    "execution": {
     "iopub.execute_input": "2022-09-02T06:22:28.222460Z",
     "iopub.status.busy": "2022-09-02T06:22:28.221766Z",
     "iopub.status.idle": "2022-09-02T06:22:29.362027Z",
     "shell.execute_reply": "2022-09-02T06:22:29.360710Z"
    },
    "papermill": {
     "duration": 1.156879,
     "end_time": "2022-09-02T06:22:29.364771",
     "exception": false,
     "start_time": "2022-09-02T06:22:28.207892",
     "status": "completed"
    },
    "tags": []
   },
   "outputs": [],
   "source": [
    "from sklearn.impute import SimpleImputer\n",
    "imp=SimpleImputer(strategy='most_frequent')\n",
    "X_train['Embarked']=imp.fit_transform(X_train[['Embarked']])\n"
   ]
  },
  {
   "cell_type": "code",
   "execution_count": 11,
   "id": "5f31e72e",
   "metadata": {
    "execution": {
     "iopub.execute_input": "2022-09-02T06:22:29.393881Z",
     "iopub.status.busy": "2022-09-02T06:22:29.393438Z",
     "iopub.status.idle": "2022-09-02T06:22:29.405184Z",
     "shell.execute_reply": "2022-09-02T06:22:29.403102Z"
    },
    "papermill": {
     "duration": 0.030146,
     "end_time": "2022-09-02T06:22:29.408423",
     "exception": false,
     "start_time": "2022-09-02T06:22:29.378277",
     "status": "completed"
    },
    "tags": []
   },
   "outputs": [],
   "source": [
    "imp=SimpleImputer(strategy='mean')\n",
    "X_train['Age']=imp.fit_transform(X_train[['Age']])"
   ]
  },
  {
   "cell_type": "code",
   "execution_count": 12,
   "id": "03e79389",
   "metadata": {
    "execution": {
     "iopub.execute_input": "2022-09-02T06:22:29.438624Z",
     "iopub.status.busy": "2022-09-02T06:22:29.437493Z",
     "iopub.status.idle": "2022-09-02T06:22:29.451312Z",
     "shell.execute_reply": "2022-09-02T06:22:29.449857Z"
    },
    "papermill": {
     "duration": 0.032518,
     "end_time": "2022-09-02T06:22:29.454941",
     "exception": false,
     "start_time": "2022-09-02T06:22:29.422423",
     "status": "completed"
    },
    "tags": []
   },
   "outputs": [
    {
     "data": {
      "text/plain": [
       "Pclass       0\n",
       "Sex          0\n",
       "Age         86\n",
       "SibSp        0\n",
       "Parch        0\n",
       "Fare         1\n",
       "Embarked     0\n",
       "dtype: int64"
      ]
     },
     "execution_count": 12,
     "metadata": {},
     "output_type": "execute_result"
    }
   ],
   "source": [
    "X_test.isna().sum()"
   ]
  },
  {
   "cell_type": "code",
   "execution_count": 13,
   "id": "8b619d33",
   "metadata": {
    "execution": {
     "iopub.execute_input": "2022-09-02T06:22:29.495734Z",
     "iopub.status.busy": "2022-09-02T06:22:29.494948Z",
     "iopub.status.idle": "2022-09-02T06:22:29.510096Z",
     "shell.execute_reply": "2022-09-02T06:22:29.508961Z"
    },
    "papermill": {
     "duration": 0.038778,
     "end_time": "2022-09-02T06:22:29.513314",
     "exception": false,
     "start_time": "2022-09-02T06:22:29.474536",
     "status": "completed"
    },
    "tags": []
   },
   "outputs": [],
   "source": [
    "X_test['Age']=imp.fit_transform(X_test[['Age']])\n",
    "\n",
    "fare_imp=SimpleImputer(strategy='mean')\n",
    "fare_imp.fit(X_train[['Fare']])\n",
    "X_test['Fare']=fare_imp.transform(X_test[['Fare']])"
   ]
  },
  {
   "cell_type": "code",
   "execution_count": 14,
   "id": "c7e10c19",
   "metadata": {
    "execution": {
     "iopub.execute_input": "2022-09-02T06:22:29.546747Z",
     "iopub.status.busy": "2022-09-02T06:22:29.545763Z",
     "iopub.status.idle": "2022-09-02T06:22:29.551157Z",
     "shell.execute_reply": "2022-09-02T06:22:29.549862Z"
    },
    "papermill": {
     "duration": 0.023502,
     "end_time": "2022-09-02T06:22:29.553697",
     "exception": false,
     "start_time": "2022-09-02T06:22:29.530195",
     "status": "completed"
    },
    "tags": []
   },
   "outputs": [],
   "source": [
    "#X_train.Age = X_train.Age.astype(int) "
   ]
  },
  {
   "cell_type": "code",
   "execution_count": 15,
   "id": "2e13a1c5",
   "metadata": {
    "execution": {
     "iopub.execute_input": "2022-09-02T06:22:29.590833Z",
     "iopub.status.busy": "2022-09-02T06:22:29.589900Z",
     "iopub.status.idle": "2022-09-02T06:22:29.598515Z",
     "shell.execute_reply": "2022-09-02T06:22:29.597120Z"
    },
    "papermill": {
     "duration": 0.031992,
     "end_time": "2022-09-02T06:22:29.601554",
     "exception": false,
     "start_time": "2022-09-02T06:22:29.569562",
     "status": "completed"
    },
    "tags": []
   },
   "outputs": [],
   "source": [
    "from sklearn.model_selection import train_test_split\n",
    "X_train,X_val,y_train,y_val=train_test_split(X_train,y_train,test_size=0.2,shuffle=True)"
   ]
  },
  {
   "cell_type": "code",
   "execution_count": 16,
   "id": "e2a307c4",
   "metadata": {
    "execution": {
     "iopub.execute_input": "2022-09-02T06:22:29.641837Z",
     "iopub.status.busy": "2022-09-02T06:22:29.641055Z",
     "iopub.status.idle": "2022-09-02T06:22:29.647985Z",
     "shell.execute_reply": "2022-09-02T06:22:29.647033Z"
    },
    "papermill": {
     "duration": 0.02983,
     "end_time": "2022-09-02T06:22:29.650719",
     "exception": false,
     "start_time": "2022-09-02T06:22:29.620889",
     "status": "completed"
    },
    "tags": []
   },
   "outputs": [
    {
     "name": "stdout",
     "output_type": "stream",
     "text": [
      "cat_cols =  ['Pclass', 'Sex', 'SibSp', 'Parch', 'Embarked']\n"
     ]
    }
   ],
   "source": [
    "num_cols=['Age','Fare']\n",
    "cat_cols=[i for i in X_train.columns if i not in num_cols]\n",
    "print('cat_cols = ',cat_cols)"
   ]
  },
  {
   "cell_type": "code",
   "execution_count": 17,
   "id": "e41495df",
   "metadata": {
    "execution": {
     "iopub.execute_input": "2022-09-02T06:22:29.690687Z",
     "iopub.status.busy": "2022-09-02T06:22:29.689933Z",
     "iopub.status.idle": "2022-09-02T06:22:29.698232Z",
     "shell.execute_reply": "2022-09-02T06:22:29.697353Z"
    },
    "papermill": {
     "duration": 0.031537,
     "end_time": "2022-09-02T06:22:29.701227",
     "exception": false,
     "start_time": "2022-09-02T06:22:29.669690",
     "status": "completed"
    },
    "tags": []
   },
   "outputs": [
    {
     "name": "stdout",
     "output_type": "stream",
     "text": [
      "[VocabularyListCategoricalColumn(key='Pclass', vocabulary_list=(3, 1, 2), dtype=tf.int64, default_value=-1, num_oov_buckets=0), VocabularyListCategoricalColumn(key='Sex', vocabulary_list=('female', 'male'), dtype=tf.string, default_value=-1, num_oov_buckets=0), VocabularyListCategoricalColumn(key='SibSp', vocabulary_list=(1, 0, 4, 2, 3, 8, 5), dtype=tf.int64, default_value=-1, num_oov_buckets=0), VocabularyListCategoricalColumn(key='Parch', vocabulary_list=(4, 1, 0, 2, 5, 6, 3), dtype=tf.int64, default_value=-1, num_oov_buckets=0), VocabularyListCategoricalColumn(key='Embarked', vocabulary_list=('S', 'C', 'Q'), dtype=tf.string, default_value=-1, num_oov_buckets=0), NumericColumn(key='Age', shape=(1,), default_value=None, dtype=tf.float32, normalizer_fn=None), NumericColumn(key='Fare', shape=(1,), default_value=None, dtype=tf.float32, normalizer_fn=None)]\n"
     ]
    }
   ],
   "source": [
    "feature_cols=[]\n",
    "for cat_col_name in cat_cols:\n",
    "    vocabulary=X_train[cat_col_name].unique()\n",
    "    feature_cols.append(tf.feature_column.categorical_column_with_vocabulary_list(cat_col_name,vocabulary))\n",
    "    \n",
    "for num_col_name in num_cols:\n",
    "    feature_cols.append(tf.feature_column.numeric_column(num_col_name,dtype=tf.float32))\n",
    "    \n",
    "print(feature_cols)"
   ]
  },
  {
   "cell_type": "code",
   "execution_count": 18,
   "id": "f150dabc",
   "metadata": {
    "execution": {
     "iopub.execute_input": "2022-09-02T06:22:29.733979Z",
     "iopub.status.busy": "2022-09-02T06:22:29.733010Z",
     "iopub.status.idle": "2022-09-02T06:22:29.742470Z",
     "shell.execute_reply": "2022-09-02T06:22:29.740221Z"
    },
    "papermill": {
     "duration": 0.028382,
     "end_time": "2022-09-02T06:22:29.746180",
     "exception": false,
     "start_time": "2022-09-02T06:22:29.717798",
     "status": "completed"
    },
    "tags": []
   },
   "outputs": [],
   "source": [
    "#Loading dataset\n",
    "\n",
    "def make_input_fn(data_df, label_df, num_epochs=10, shuffle=True, batch_size=32):\n",
    "    def input_function():  # inner function, this will be returned\n",
    "        ds = tf.data.Dataset.from_tensor_slices((dict(data_df), label_df))  # create tf.data.Dataset object with data and its label\n",
    "        if shuffle:\n",
    "            ds = ds.shuffle(1000)  # randomize order of data\n",
    "        ds = ds.batch(batch_size).repeat(num_epochs)  # split dataset into batches of 32 and repeat process for number of epochs\n",
    "        return ds  # return a batch of the dataset\n",
    "    return input_function  # return a function object for use\n",
    "\n",
    "train_input_fn = make_input_fn(X_train, y_train)  # here we will call the input_function that was returned to us to get a dataset object we can feed to the model\n",
    "eval_input_fn = make_input_fn(X_val, y_val, num_epochs=1, shuffle=False)\n",
    "#test_input_fn = make_input_fn(X_val, num_epochs=1, shuffle=False)\n"
   ]
  },
  {
   "cell_type": "code",
   "execution_count": 19,
   "id": "22470aa1",
   "metadata": {
    "execution": {
     "iopub.execute_input": "2022-09-02T06:22:29.779070Z",
     "iopub.status.busy": "2022-09-02T06:22:29.778443Z",
     "iopub.status.idle": "2022-09-02T06:22:38.416572Z",
     "shell.execute_reply": "2022-09-02T06:22:38.415441Z"
    },
    "papermill": {
     "duration": 8.657448,
     "end_time": "2022-09-02T06:22:38.419290",
     "exception": false,
     "start_time": "2022-09-02T06:22:29.761842",
     "status": "completed"
    },
    "tags": []
   },
   "outputs": [
    {
     "name": "stderr",
     "output_type": "stream",
     "text": [
      "/opt/conda/lib/python3.7/site-packages/keras/engine/base_layer_v1.py:1684: UserWarning: `layer.add_variable` is deprecated and will be removed in a future version. Please use `layer.add_weight` method instead.\n",
      "  warnings.warn('`layer.add_variable` is deprecated and '\n",
      "2022-09-02 06:22:32.875640: I tensorflow/core/common_runtime/process_util.cc:146] Creating new thread pool with default inter op setting: 2. Tune using inter_op_parallelism_threads for best performance.\n"
     ]
    }
   ],
   "source": [
    "#Reuslt changes every time due to shuffle and you can also adjust it with epochs\n",
    "linear_est=tf.estimator.LinearClassifier(feature_columns=feature_cols)\n",
    "linear_est.train(train_input_fn)\n",
    "result=linear_est.evaluate(eval_input_fn)\n"
   ]
  },
  {
   "cell_type": "code",
   "execution_count": 20,
   "id": "58df12dc",
   "metadata": {
    "execution": {
     "iopub.execute_input": "2022-09-02T06:22:38.448103Z",
     "iopub.status.busy": "2022-09-02T06:22:38.447397Z",
     "iopub.status.idle": "2022-09-02T06:22:38.455188Z",
     "shell.execute_reply": "2022-09-02T06:22:38.453843Z"
    },
    "papermill": {
     "duration": 0.024991,
     "end_time": "2022-09-02T06:22:38.457716",
     "exception": false,
     "start_time": "2022-09-02T06:22:38.432725",
     "status": "completed"
    },
    "tags": []
   },
   "outputs": [
    {
     "data": {
      "text/plain": [
       "{'accuracy': 0.8324022,\n",
       " 'accuracy_baseline': 0.6424581,\n",
       " 'auc': 0.89599186,\n",
       " 'auc_precision_recall': 0.8700402,\n",
       " 'average_loss': 0.38340682,\n",
       " 'label/mean': 0.3575419,\n",
       " 'loss': 0.39663112,\n",
       " 'precision': 0.84,\n",
       " 'prediction/mean': 0.34956977,\n",
       " 'recall': 0.65625,\n",
       " 'global_step': 230}"
      ]
     },
     "execution_count": 20,
     "metadata": {},
     "output_type": "execute_result"
    }
   ],
   "source": [
    "result"
   ]
  },
  {
   "cell_type": "code",
   "execution_count": 21,
   "id": "30e1cbe0",
   "metadata": {
    "execution": {
     "iopub.execute_input": "2022-09-02T06:22:38.486472Z",
     "iopub.status.busy": "2022-09-02T06:22:38.485494Z",
     "iopub.status.idle": "2022-09-02T06:22:39.403317Z",
     "shell.execute_reply": "2022-09-02T06:22:39.401634Z"
    },
    "papermill": {
     "duration": 0.93523,
     "end_time": "2022-09-02T06:22:39.406227",
     "exception": false,
     "start_time": "2022-09-02T06:22:38.470997",
     "status": "completed"
    },
    "tags": []
   },
   "outputs": [
    {
     "name": "stdout",
     "output_type": "stream",
     "text": [
      "[{'logits': array([-1.3639282], dtype=float32), 'logistic': array([0.20360258], dtype=float32), 'probabilities': array([0.7963974 , 0.20360261], dtype=float32), 'class_ids': array([0]), 'classes': array([b'0'], dtype=object), 'all_class_ids': array([0, 1], dtype=int32), 'all_classes': array([b'0', b'1'], dtype=object)}, {'logits': array([-2.5893898], dtype=float32), 'logistic': array([0.06982437], dtype=float32), 'probabilities': array([0.9301756 , 0.06982441], dtype=float32), 'class_ids': array([0]), 'classes': array([b'0'], dtype=object), 'all_class_ids': array([0, 1], dtype=int32), 'all_classes': array([b'0', b'1'], dtype=object)}, {'logits': array([-2.1246893], dtype=float32), 'logistic': array([0.10672021], dtype=float32), 'probabilities': array([0.89327973, 0.10672019], dtype=float32), 'class_ids': array([0]), 'classes': array([b'0'], dtype=object), 'all_class_ids': array([0, 1], dtype=int32), 'all_classes': array([b'0', b'1'], dtype=object)}, {'logits': array([-0.6178284], dtype=float32), 'logistic': array([0.35027552], dtype=float32), 'probabilities': array([0.6497244, 0.3502755], dtype=float32), 'class_ids': array([0]), 'classes': array([b'0'], dtype=object), 'all_class_ids': array([0, 1], dtype=int32), 'all_classes': array([b'0', b'1'], dtype=object)}, {'logits': array([1.6526879], dtype=float32), 'logistic': array([0.839254], dtype=float32), 'probabilities': array([0.160746  , 0.83925396], dtype=float32), 'class_ids': array([1]), 'classes': array([b'1'], dtype=object), 'all_class_ids': array([0, 1], dtype=int32), 'all_classes': array([b'0', b'1'], dtype=object)}]\n"
     ]
    }
   ],
   "source": [
    "res=list(linear_est.predict(eval_input_fn))\n",
    "print(res[:5])"
   ]
  },
  {
   "cell_type": "code",
   "execution_count": 22,
   "id": "503935ae",
   "metadata": {
    "execution": {
     "iopub.execute_input": "2022-09-02T06:22:39.435064Z",
     "iopub.status.busy": "2022-09-02T06:22:39.434350Z",
     "iopub.status.idle": "2022-09-02T06:22:39.442186Z",
     "shell.execute_reply": "2022-09-02T06:22:39.440683Z"
    },
    "papermill": {
     "duration": 0.025315,
     "end_time": "2022-09-02T06:22:39.444895",
     "exception": false,
     "start_time": "2022-09-02T06:22:39.419580",
     "status": "completed"
    },
    "tags": []
   },
   "outputs": [
    {
     "name": "stdout",
     "output_type": "stream",
     "text": [
      "Pclass           1\n",
      "Sex         female\n",
      "Age           22.0\n",
      "SibSp            0\n",
      "Parch            2\n",
      "Fare          49.5\n",
      "Embarked         C\n",
      "Name: 539, dtype: object\n",
      "Survived =1 , Dead=0 ::  1\n",
      "[0.09655212 0.9034479 ]\n"
     ]
    }
   ],
   "source": [
    "print(X_val.iloc[5])\n",
    "print('Survived =1 , Dead=0 :: ',y_val.iloc[5])\n",
    "print(res[5]['probabilities'])"
   ]
  },
  {
   "cell_type": "markdown",
   "id": "88ee4080",
   "metadata": {
    "papermill": {
     "duration": 0.012833,
     "end_time": "2022-09-02T06:22:39.470923",
     "exception": false,
     "start_time": "2022-09-02T06:22:39.458090",
     "status": "completed"
    },
    "tags": []
   },
   "source": [
    "# Classification"
   ]
  },
  {
   "cell_type": "markdown",
   "id": "43a2bcbd",
   "metadata": {
    "papermill": {
     "duration": 0.012877,
     "end_time": "2022-09-02T06:22:39.496938",
     "exception": false,
     "start_time": "2022-09-02T06:22:39.484061",
     "status": "completed"
    },
    "tags": []
   },
   "source": [
    "### Dataset <br>\n",
    "This specific dataset seperates flowers into 3 different classes of species.\n",
    "- Setosa\n",
    "- Versicolor\n",
    "- Virginica\n",
    "\n",
    "The information about each flower is the following.\n",
    "- sepal length\n",
    "- sepal width\n",
    "- petal length\n",
    "- petal width"
   ]
  },
  {
   "cell_type": "code",
   "execution_count": 23,
   "id": "0289ee3f",
   "metadata": {
    "execution": {
     "iopub.execute_input": "2022-09-02T06:22:39.525262Z",
     "iopub.status.busy": "2022-09-02T06:22:39.524849Z",
     "iopub.status.idle": "2022-09-02T06:22:39.530338Z",
     "shell.execute_reply": "2022-09-02T06:22:39.529012Z"
    },
    "papermill": {
     "duration": 0.022868,
     "end_time": "2022-09-02T06:22:39.532901",
     "exception": false,
     "start_time": "2022-09-02T06:22:39.510033",
     "status": "completed"
    },
    "tags": []
   },
   "outputs": [],
   "source": [
    "CSV_COLUMN_NAMES = ['SepalLength', 'SepalWidth', 'PetalLength', 'PetalWidth', 'Species']\n",
    "SPECIES = ['Setosa', 'Versicolor', 'Virginica']\n",
    "# Lets define some constants to help us later on"
   ]
  },
  {
   "cell_type": "code",
   "execution_count": 24,
   "id": "33ea6387",
   "metadata": {
    "execution": {
     "iopub.execute_input": "2022-09-02T06:22:39.561669Z",
     "iopub.status.busy": "2022-09-02T06:22:39.561245Z",
     "iopub.status.idle": "2022-09-02T06:22:39.896489Z",
     "shell.execute_reply": "2022-09-02T06:22:39.895446Z"
    },
    "papermill": {
     "duration": 0.352835,
     "end_time": "2022-09-02T06:22:39.899069",
     "exception": false,
     "start_time": "2022-09-02T06:22:39.546234",
     "status": "completed"
    },
    "tags": []
   },
   "outputs": [
    {
     "name": "stdout",
     "output_type": "stream",
     "text": [
      "Downloading data from https://storage.googleapis.com/download.tensorflow.org/data/iris_training.csv\n",
      "16384/2194 [================================================================================================================================================================================================================================] - 0s 0us/step\n",
      "Downloading data from https://storage.googleapis.com/download.tensorflow.org/data/iris_test.csv\n",
      "16384/573 [=========================================================================================================================================================================================================================================================================================================================================================================================================================================================================================================================================================================================================================================================================================================================================================================================================================================================================================] - 0s 0us/step\n"
     ]
    }
   ],
   "source": [
    "# Get dataset \n",
    "train_path = tf.keras.utils.get_file(\n",
    "    \"iris_training.csv\", \"https://storage.googleapis.com/download.tensorflow.org/data/iris_training.csv\")\n",
    "test_path = tf.keras.utils.get_file(\n",
    "    \"iris_test.csv\", \"https://storage.googleapis.com/download.tensorflow.org/data/iris_test.csv\")\n",
    "\n",
    "train = pd.read_csv(train_path, names=CSV_COLUMN_NAMES, header=0)\n",
    "test = pd.read_csv(test_path, names=CSV_COLUMN_NAMES, header=0)\n",
    "# Here we use keras (a module inside of TensorFlow) to grab our datasets and read them into a pandas dataframe"
   ]
  },
  {
   "cell_type": "code",
   "execution_count": 25,
   "id": "b60079c0",
   "metadata": {
    "execution": {
     "iopub.execute_input": "2022-09-02T06:22:39.929100Z",
     "iopub.status.busy": "2022-09-02T06:22:39.927817Z",
     "iopub.status.idle": "2022-09-02T06:22:39.945593Z",
     "shell.execute_reply": "2022-09-02T06:22:39.944729Z"
    },
    "papermill": {
     "duration": 0.035042,
     "end_time": "2022-09-02T06:22:39.948008",
     "exception": false,
     "start_time": "2022-09-02T06:22:39.912966",
     "status": "completed"
    },
    "tags": []
   },
   "outputs": [
    {
     "data": {
      "text/html": [
       "<div>\n",
       "<style scoped>\n",
       "    .dataframe tbody tr th:only-of-type {\n",
       "        vertical-align: middle;\n",
       "    }\n",
       "\n",
       "    .dataframe tbody tr th {\n",
       "        vertical-align: top;\n",
       "    }\n",
       "\n",
       "    .dataframe thead th {\n",
       "        text-align: right;\n",
       "    }\n",
       "</style>\n",
       "<table border=\"1\" class=\"dataframe\">\n",
       "  <thead>\n",
       "    <tr style=\"text-align: right;\">\n",
       "      <th></th>\n",
       "      <th>SepalLength</th>\n",
       "      <th>SepalWidth</th>\n",
       "      <th>PetalLength</th>\n",
       "      <th>PetalWidth</th>\n",
       "      <th>Species</th>\n",
       "    </tr>\n",
       "  </thead>\n",
       "  <tbody>\n",
       "    <tr>\n",
       "      <th>0</th>\n",
       "      <td>6.4</td>\n",
       "      <td>2.8</td>\n",
       "      <td>5.6</td>\n",
       "      <td>2.2</td>\n",
       "      <td>2</td>\n",
       "    </tr>\n",
       "    <tr>\n",
       "      <th>1</th>\n",
       "      <td>5.0</td>\n",
       "      <td>2.3</td>\n",
       "      <td>3.3</td>\n",
       "      <td>1.0</td>\n",
       "      <td>1</td>\n",
       "    </tr>\n",
       "    <tr>\n",
       "      <th>2</th>\n",
       "      <td>4.9</td>\n",
       "      <td>2.5</td>\n",
       "      <td>4.5</td>\n",
       "      <td>1.7</td>\n",
       "      <td>2</td>\n",
       "    </tr>\n",
       "    <tr>\n",
       "      <th>3</th>\n",
       "      <td>4.9</td>\n",
       "      <td>3.1</td>\n",
       "      <td>1.5</td>\n",
       "      <td>0.1</td>\n",
       "      <td>0</td>\n",
       "    </tr>\n",
       "    <tr>\n",
       "      <th>4</th>\n",
       "      <td>5.7</td>\n",
       "      <td>3.8</td>\n",
       "      <td>1.7</td>\n",
       "      <td>0.3</td>\n",
       "      <td>0</td>\n",
       "    </tr>\n",
       "    <tr>\n",
       "      <th>...</th>\n",
       "      <td>...</td>\n",
       "      <td>...</td>\n",
       "      <td>...</td>\n",
       "      <td>...</td>\n",
       "      <td>...</td>\n",
       "    </tr>\n",
       "    <tr>\n",
       "      <th>115</th>\n",
       "      <td>5.5</td>\n",
       "      <td>2.6</td>\n",
       "      <td>4.4</td>\n",
       "      <td>1.2</td>\n",
       "      <td>1</td>\n",
       "    </tr>\n",
       "    <tr>\n",
       "      <th>116</th>\n",
       "      <td>5.7</td>\n",
       "      <td>3.0</td>\n",
       "      <td>4.2</td>\n",
       "      <td>1.2</td>\n",
       "      <td>1</td>\n",
       "    </tr>\n",
       "    <tr>\n",
       "      <th>117</th>\n",
       "      <td>4.4</td>\n",
       "      <td>2.9</td>\n",
       "      <td>1.4</td>\n",
       "      <td>0.2</td>\n",
       "      <td>0</td>\n",
       "    </tr>\n",
       "    <tr>\n",
       "      <th>118</th>\n",
       "      <td>4.8</td>\n",
       "      <td>3.0</td>\n",
       "      <td>1.4</td>\n",
       "      <td>0.1</td>\n",
       "      <td>0</td>\n",
       "    </tr>\n",
       "    <tr>\n",
       "      <th>119</th>\n",
       "      <td>5.5</td>\n",
       "      <td>2.4</td>\n",
       "      <td>3.7</td>\n",
       "      <td>1.0</td>\n",
       "      <td>1</td>\n",
       "    </tr>\n",
       "  </tbody>\n",
       "</table>\n",
       "<p>120 rows × 5 columns</p>\n",
       "</div>"
      ],
      "text/plain": [
       "     SepalLength  SepalWidth  PetalLength  PetalWidth  Species\n",
       "0            6.4         2.8          5.6         2.2        2\n",
       "1            5.0         2.3          3.3         1.0        1\n",
       "2            4.9         2.5          4.5         1.7        2\n",
       "3            4.9         3.1          1.5         0.1        0\n",
       "4            5.7         3.8          1.7         0.3        0\n",
       "..           ...         ...          ...         ...      ...\n",
       "115          5.5         2.6          4.4         1.2        1\n",
       "116          5.7         3.0          4.2         1.2        1\n",
       "117          4.4         2.9          1.4         0.2        0\n",
       "118          4.8         3.0          1.4         0.1        0\n",
       "119          5.5         2.4          3.7         1.0        1\n",
       "\n",
       "[120 rows x 5 columns]"
      ]
     },
     "execution_count": 25,
     "metadata": {},
     "output_type": "execute_result"
    }
   ],
   "source": [
    "train"
   ]
  },
  {
   "cell_type": "code",
   "execution_count": 26,
   "id": "8596f34b",
   "metadata": {
    "execution": {
     "iopub.execute_input": "2022-09-02T06:22:39.978826Z",
     "iopub.status.busy": "2022-09-02T06:22:39.977250Z",
     "iopub.status.idle": "2022-09-02T06:22:39.993086Z",
     "shell.execute_reply": "2022-09-02T06:22:39.991855Z"
    },
    "papermill": {
     "duration": 0.033556,
     "end_time": "2022-09-02T06:22:39.995625",
     "exception": false,
     "start_time": "2022-09-02T06:22:39.962069",
     "status": "completed"
    },
    "tags": []
   },
   "outputs": [
    {
     "data": {
      "text/html": [
       "<div>\n",
       "<style scoped>\n",
       "    .dataframe tbody tr th:only-of-type {\n",
       "        vertical-align: middle;\n",
       "    }\n",
       "\n",
       "    .dataframe tbody tr th {\n",
       "        vertical-align: top;\n",
       "    }\n",
       "\n",
       "    .dataframe thead th {\n",
       "        text-align: right;\n",
       "    }\n",
       "</style>\n",
       "<table border=\"1\" class=\"dataframe\">\n",
       "  <thead>\n",
       "    <tr style=\"text-align: right;\">\n",
       "      <th></th>\n",
       "      <th>SepalLength</th>\n",
       "      <th>SepalWidth</th>\n",
       "      <th>PetalLength</th>\n",
       "      <th>PetalWidth</th>\n",
       "    </tr>\n",
       "  </thead>\n",
       "  <tbody>\n",
       "    <tr>\n",
       "      <th>0</th>\n",
       "      <td>6.4</td>\n",
       "      <td>2.8</td>\n",
       "      <td>5.6</td>\n",
       "      <td>2.2</td>\n",
       "    </tr>\n",
       "    <tr>\n",
       "      <th>1</th>\n",
       "      <td>5.0</td>\n",
       "      <td>2.3</td>\n",
       "      <td>3.3</td>\n",
       "      <td>1.0</td>\n",
       "    </tr>\n",
       "    <tr>\n",
       "      <th>2</th>\n",
       "      <td>4.9</td>\n",
       "      <td>2.5</td>\n",
       "      <td>4.5</td>\n",
       "      <td>1.7</td>\n",
       "    </tr>\n",
       "    <tr>\n",
       "      <th>3</th>\n",
       "      <td>4.9</td>\n",
       "      <td>3.1</td>\n",
       "      <td>1.5</td>\n",
       "      <td>0.1</td>\n",
       "    </tr>\n",
       "    <tr>\n",
       "      <th>4</th>\n",
       "      <td>5.7</td>\n",
       "      <td>3.8</td>\n",
       "      <td>1.7</td>\n",
       "      <td>0.3</td>\n",
       "    </tr>\n",
       "  </tbody>\n",
       "</table>\n",
       "</div>"
      ],
      "text/plain": [
       "   SepalLength  SepalWidth  PetalLength  PetalWidth\n",
       "0          6.4         2.8          5.6         2.2\n",
       "1          5.0         2.3          3.3         1.0\n",
       "2          4.9         2.5          4.5         1.7\n",
       "3          4.9         3.1          1.5         0.1\n",
       "4          5.7         3.8          1.7         0.3"
      ]
     },
     "execution_count": 26,
     "metadata": {},
     "output_type": "execute_result"
    }
   ],
   "source": [
    "train_y=train.pop('Species')\n",
    "test_y=test.pop('Species')\n",
    "train.head()"
   ]
  },
  {
   "cell_type": "code",
   "execution_count": 27,
   "id": "7b34820d",
   "metadata": {
    "execution": {
     "iopub.execute_input": "2022-09-02T06:22:40.026457Z",
     "iopub.status.busy": "2022-09-02T06:22:40.025445Z",
     "iopub.status.idle": "2022-09-02T06:22:40.033451Z",
     "shell.execute_reply": "2022-09-02T06:22:40.031965Z"
    },
    "papermill": {
     "duration": 0.026164,
     "end_time": "2022-09-02T06:22:40.036090",
     "exception": false,
     "start_time": "2022-09-02T06:22:40.009926",
     "status": "completed"
    },
    "tags": []
   },
   "outputs": [
    {
     "data": {
      "text/plain": [
       "(120, 4)"
      ]
     },
     "execution_count": 27,
     "metadata": {},
     "output_type": "execute_result"
    }
   ],
   "source": [
    "train.shape"
   ]
  },
  {
   "cell_type": "code",
   "execution_count": 28,
   "id": "57fedd6c",
   "metadata": {
    "execution": {
     "iopub.execute_input": "2022-09-02T06:22:40.066995Z",
     "iopub.status.busy": "2022-09-02T06:22:40.066296Z",
     "iopub.status.idle": "2022-09-02T06:22:40.072861Z",
     "shell.execute_reply": "2022-09-02T06:22:40.071872Z"
    },
    "papermill": {
     "duration": 0.024881,
     "end_time": "2022-09-02T06:22:40.075763",
     "exception": false,
     "start_time": "2022-09-02T06:22:40.050882",
     "status": "completed"
    },
    "tags": []
   },
   "outputs": [],
   "source": [
    "#Input function (different from previous), this does not have epochs\n",
    "\n",
    "def input_fn(features, labels, training=True, batch_size=256):\n",
    "    # Convert the inputs to a Dataset.\n",
    "    dataset = tf.data.Dataset.from_tensor_slices((dict(features), labels))\n",
    "\n",
    "    # Shuffle and repeat if you are in training mode.\n",
    "    if training:\n",
    "        dataset = dataset.shuffle(1000).repeat()\n",
    "    \n",
    "    return dataset.batch(batch_size)\n"
   ]
  },
  {
   "cell_type": "code",
   "execution_count": 29,
   "id": "5dfb2291",
   "metadata": {
    "execution": {
     "iopub.execute_input": "2022-09-02T06:22:40.107246Z",
     "iopub.status.busy": "2022-09-02T06:22:40.106505Z",
     "iopub.status.idle": "2022-09-02T06:22:40.114555Z",
     "shell.execute_reply": "2022-09-02T06:22:40.112755Z"
    },
    "papermill": {
     "duration": 0.026435,
     "end_time": "2022-09-02T06:22:40.117009",
     "exception": false,
     "start_time": "2022-09-02T06:22:40.090574",
     "status": "completed"
    },
    "tags": []
   },
   "outputs": [
    {
     "name": "stdout",
     "output_type": "stream",
     "text": [
      "[NumericColumn(key='SepalLength', shape=(1,), default_value=None, dtype=tf.float32, normalizer_fn=None), NumericColumn(key='SepalWidth', shape=(1,), default_value=None, dtype=tf.float32, normalizer_fn=None), NumericColumn(key='PetalLength', shape=(1,), default_value=None, dtype=tf.float32, normalizer_fn=None), NumericColumn(key='PetalWidth', shape=(1,), default_value=None, dtype=tf.float32, normalizer_fn=None)]\n"
     ]
    }
   ],
   "source": [
    "#creating feature cols for tensorflow\n",
    "my_feature_cols=[]\n",
    "for col in train.columns:\n",
    "    my_feature_cols.append(tf.feature_column.numeric_column(col))\n",
    "\n",
    "print(my_feature_cols)"
   ]
  },
  {
   "cell_type": "code",
   "execution_count": 30,
   "id": "a95d706e",
   "metadata": {
    "execution": {
     "iopub.execute_input": "2022-09-02T06:22:40.148024Z",
     "iopub.status.busy": "2022-09-02T06:22:40.146877Z",
     "iopub.status.idle": "2022-09-02T06:22:40.162848Z",
     "shell.execute_reply": "2022-09-02T06:22:40.161115Z"
    },
    "papermill": {
     "duration": 0.03445,
     "end_time": "2022-09-02T06:22:40.166003",
     "exception": false,
     "start_time": "2022-09-02T06:22:40.131553",
     "status": "completed"
    },
    "tags": []
   },
   "outputs": [
    {
     "name": "stderr",
     "output_type": "stream",
     "text": [
      "2022-09-02 06:22:40.151208: I tensorflow/core/common_runtime/process_util.cc:146] Creating new thread pool with default inter op setting: 2. Tune using inter_op_parallelism_threads for best performance.\n"
     ]
    }
   ],
   "source": [
    "# Build a DNN with 2 hidden layers with 30 and 10 hidden nodes each. DNN=Deep Neural Network\n",
    "classifier = tf.estimator.DNNClassifier(\n",
    "    feature_columns=my_feature_cols,\n",
    "    # Two hidden layers of 30 and 10 nodes respectively.\n",
    "    hidden_units=[30, 10],\n",
    "    # The model must choose between 3 classes.\n",
    "    n_classes=3)"
   ]
  },
  {
   "cell_type": "code",
   "execution_count": 31,
   "id": "8cf01331",
   "metadata": {
    "execution": {
     "iopub.execute_input": "2022-09-02T06:22:40.197331Z",
     "iopub.status.busy": "2022-09-02T06:22:40.196079Z",
     "iopub.status.idle": "2022-09-02T06:22:57.367040Z",
     "shell.execute_reply": "2022-09-02T06:22:57.366049Z"
    },
    "papermill": {
     "duration": 17.188797,
     "end_time": "2022-09-02T06:22:57.369545",
     "exception": false,
     "start_time": "2022-09-02T06:22:40.180748",
     "status": "completed"
    },
    "tags": []
   },
   "outputs": [
    {
     "data": {
      "text/plain": [
       "<tensorflow_estimator.python.estimator.canned.dnn.DNNClassifierV2 at 0x7f2f22a47a90>"
      ]
     },
     "execution_count": 31,
     "metadata": {},
     "output_type": "execute_result"
    }
   ],
   "source": [
    "classifier.train(\n",
    "    input_fn= lambda: input_fn(train,train_y,training=True),steps=5000\n",
    ")"
   ]
  },
  {
   "cell_type": "code",
   "execution_count": 32,
   "id": "e9d26ded",
   "metadata": {
    "execution": {
     "iopub.execute_input": "2022-09-02T06:22:57.400118Z",
     "iopub.status.busy": "2022-09-02T06:22:57.399669Z",
     "iopub.status.idle": "2022-09-02T06:22:58.150081Z",
     "shell.execute_reply": "2022-09-02T06:22:58.148709Z"
    },
    "papermill": {
     "duration": 0.76908,
     "end_time": "2022-09-02T06:22:58.153091",
     "exception": false,
     "start_time": "2022-09-02T06:22:57.384011",
     "status": "completed"
    },
    "tags": []
   },
   "outputs": [],
   "source": [
    "result=classifier.evaluate( input_fn= lambda: input_fn(test,test_y,training=False))"
   ]
  },
  {
   "cell_type": "code",
   "execution_count": 33,
   "id": "739362ce",
   "metadata": {
    "execution": {
     "iopub.execute_input": "2022-09-02T06:22:58.184762Z",
     "iopub.status.busy": "2022-09-02T06:22:58.183857Z",
     "iopub.status.idle": "2022-09-02T06:22:58.189947Z",
     "shell.execute_reply": "2022-09-02T06:22:58.189034Z"
    },
    "papermill": {
     "duration": 0.024096,
     "end_time": "2022-09-02T06:22:58.192062",
     "exception": false,
     "start_time": "2022-09-02T06:22:58.167966",
     "status": "completed"
    },
    "tags": []
   },
   "outputs": [
    {
     "data": {
      "text/plain": [
       "{'accuracy': 0.93333334,\n",
       " 'average_loss': 0.37792248,\n",
       " 'loss': 0.37792248,\n",
       " 'global_step': 5000}"
      ]
     },
     "execution_count": 33,
     "metadata": {},
     "output_type": "execute_result"
    }
   ],
   "source": [
    "result"
   ]
  },
  {
   "cell_type": "markdown",
   "id": "edbc0d65",
   "metadata": {
    "papermill": {
     "duration": 0.013926,
     "end_time": "2022-09-02T06:22:58.220333",
     "exception": false,
     "start_time": "2022-09-02T06:22:58.206407",
     "status": "completed"
    },
    "tags": []
   },
   "source": [
    "### Predictions\n",
    "Now that we have a trained model it's time to use it to make predictions. I've written a little script below that allows you to type the features of a flower and see a prediction for its class."
   ]
  },
  {
   "cell_type": "code",
   "execution_count": 34,
   "id": "c9e58b82",
   "metadata": {
    "execution": {
     "iopub.execute_input": "2022-09-02T06:22:58.251048Z",
     "iopub.status.busy": "2022-09-02T06:22:58.250348Z",
     "iopub.status.idle": "2022-09-02T06:22:58.617279Z",
     "shell.execute_reply": "2022-09-02T06:22:58.616481Z"
    },
    "papermill": {
     "duration": 0.384945,
     "end_time": "2022-09-02T06:22:58.619581",
     "exception": false,
     "start_time": "2022-09-02T06:22:58.234636",
     "status": "completed"
    },
    "tags": []
   },
   "outputs": [
    {
     "data": {
      "text/plain": [
       "'\\nfor pred_dict in predictions:\\n    class_id = pred_dict[\\'class_ids\\'][0]\\n    probability = pred_dict[\\'probabilities\\'][class_id]\\n\\n    print(\\'Prediction is \"{}\" ({:.1f}%)\\'.format(\\n        SPECIES[class_id], 100 * probability))\\n'"
      ]
     },
     "execution_count": 34,
     "metadata": {},
     "output_type": "execute_result"
    }
   ],
   "source": [
    "\n",
    "def input_fn(features, batch_size=256):\n",
    "    # Convert the inputs to a Dataset without labels.\n",
    "    return tf.data.Dataset.from_tensor_slices(dict(features)).batch(batch_size)\n",
    "\n",
    "features = ['SepalLength', 'SepalWidth', 'PetalLength', 'PetalWidth']\n",
    "predict = {}\n",
    "'''\n",
    "print(\"Please type numeric values as prompted.\")\n",
    "for feature in features:\n",
    "    valid = True\n",
    "    while valid: \n",
    "        val = input(feature + \": \")\n",
    "        if not val.isdigit(): valid = False\n",
    "\n",
    "    predict[feature] = [float(val)]\n",
    "'''\n",
    "predictions = list(classifier.predict(input_fn=lambda: input_fn(test)))\n",
    "\n",
    "'''\n",
    "for pred_dict in predictions:\n",
    "    class_id = pred_dict['class_ids'][0]\n",
    "    probability = pred_dict['probabilities'][class_id]\n",
    "\n",
    "    print('Prediction is \"{}\" ({:.1f}%)'.format(\n",
    "        SPECIES[class_id], 100 * probability))\n",
    "'''\n"
   ]
  },
  {
   "cell_type": "code",
   "execution_count": 35,
   "id": "a80d5256",
   "metadata": {
    "execution": {
     "iopub.execute_input": "2022-09-02T06:22:58.651465Z",
     "iopub.status.busy": "2022-09-02T06:22:58.650820Z",
     "iopub.status.idle": "2022-09-02T06:22:58.657989Z",
     "shell.execute_reply": "2022-09-02T06:22:58.656941Z"
    },
    "papermill": {
     "duration": 0.025713,
     "end_time": "2022-09-02T06:22:58.660228",
     "exception": false,
     "start_time": "2022-09-02T06:22:58.634515",
     "status": "completed"
    },
    "tags": []
   },
   "outputs": [
    {
     "data": {
      "text/plain": [
       "({'logits': array([-0.5229342,  1.9144566,  1.6516744], dtype=float32),\n",
       "  'probabilities': array([0.0470768 , 0.53870666, 0.41421658], dtype=float32),\n",
       "  'class_ids': array([1]),\n",
       "  'classes': array([b'1'], dtype=object),\n",
       "  'all_class_ids': array([0, 1, 2], dtype=int32),\n",
       "  'all_classes': array([b'0', b'1', b'2'], dtype=object)},\n",
       " 1)"
      ]
     },
     "execution_count": 35,
     "metadata": {},
     "output_type": "execute_result"
    }
   ],
   "source": [
    "predictions[4],test_y[4]"
   ]
  },
  {
   "cell_type": "code",
   "execution_count": null,
   "id": "4a31107a",
   "metadata": {
    "papermill": {
     "duration": 0.014771,
     "end_time": "2022-09-02T06:22:58.689894",
     "exception": false,
     "start_time": "2022-09-02T06:22:58.675123",
     "status": "completed"
    },
    "tags": []
   },
   "outputs": [],
   "source": []
  },
  {
   "cell_type": "markdown",
   "id": "57c3dde0",
   "metadata": {
    "papermill": {
     "duration": 0.014832,
     "end_time": "2022-09-02T06:22:58.719514",
     "exception": false,
     "start_time": "2022-09-02T06:22:58.704682",
     "status": "completed"
    },
    "tags": []
   },
   "source": [
    "# Clustering"
   ]
  },
  {
   "cell_type": "markdown",
   "id": "6a7d7f21",
   "metadata": {
    "papermill": {
     "duration": 0.014656,
     "end_time": "2022-09-02T06:22:58.748663",
     "exception": false,
     "start_time": "2022-09-02T06:22:58.734007",
     "status": "completed"
    },
    "tags": []
   },
   "source": [
    "## Clustering\n",
    "Now that we've covered regression and classification it's time to talk about clustering data! \n",
    "\n",
    "Clustering is a Machine Learning technique that involves the grouping of data points. In theory, data points that are in the same group should have similar properties and/or features, while data points in different groups should have highly dissimilar properties and/or features. (https://towardsdatascience.com/the-5-clustering-algorithms-data-scientists-need-to-know-a36d136ef68)\n",
    "\n",
    "Unfortunalty there are issues with the current version of TensorFlow and the implementation for KMeans. This means we cannot use KMeans without writing the algorithm from scratch. We aren't quite at that level yet, so we'll just explain the basics of clustering for now.\n",
    "\n",
    "#### Basic Algorithm for K-Means.\n",
    "- Step 1: Randomly pick K points to place K centroids\n",
    "- Step 2: Assign all the data points to the centroids by distance. The closest centroid to a point is the one it is assigned to.\n",
    "- Step 3: Average all the points belonging to each centroid to find the middle of those clusters (center of mass). Place the corresponding centroids into that position.\n",
    "- Step 4: Reassign every point once again to the closest centroid.\n",
    "- Step 5: Repeat steps 3-4 until no point changes which centroid it belongs to.\n",
    "\n",
    "*Please refer to the video for an explanation of KMeans clustering.*"
   ]
  },
  {
   "cell_type": "markdown",
   "id": "0a347449",
   "metadata": {
    "papermill": {
     "duration": 0.014066,
     "end_time": "2022-09-02T06:22:58.777257",
     "exception": false,
     "start_time": "2022-09-02T06:22:58.763191",
     "status": "completed"
    },
    "tags": []
   },
   "source": [
    "## Hidden Markov Models\n",
    "\n",
    "\"The Hidden Markov Model is a finite set of states, each of which is associated with a (generally multidimensional) probability distribution []. Transitions among the states are governed by a set of probabilities called transition probabilities.\" (http://jedlik.phy.bme.hu/~gerjanos/HMM/node4.html)\n",
    "\n",
    "A hidden markov model works with probabilities to predict future events or states. In this section we will learn how to create a hidden markov model that can predict the weather.\n",
    "\n",
    "*This section is based on the following TensorFlow tutorial.* https://www.tensorflow.org/probability/api_docs/python/tfp/distributions/HiddenMarkovModel"
   ]
  },
  {
   "cell_type": "markdown",
   "id": "1163fb06",
   "metadata": {
    "papermill": {
     "duration": 0.014876,
     "end_time": "2022-09-02T06:22:58.807060",
     "exception": false,
     "start_time": "2022-09-02T06:22:58.792184",
     "status": "completed"
    },
    "tags": []
   },
   "source": [
    "### Data\n",
    "Let's start by discussing the type of data we use when we work with a hidden markov model. \n",
    "\n",
    "In the previous sections we worked with large datasets of 100's of different entries. For a markov model we are only interested in probability distributions that have to do with states. \n",
    "\n",
    "We can find these probabilities from large datasets or may already have these values. We'll run through an example in a second that should clear some things up, but let's discuss the components of a markov model.\n",
    "\n",
    "**States:** In each markov model we have a finite set of states. These states could be something like \"warm\" and \"cold\" or \"high\" and \"low\" or even \"red\", \"green\" and \"blue\". These states are \"hidden\" within the model, which means we do not direcly observe them.\n",
    "\n",
    "**Observations:** Each state has a particular outcome or observation associated with it based on a probability distribution. An example of this is the following: *On a hot day Tim has a 80% chance of being happy and a 20% chance of being sad.*\n",
    "\n",
    "**Transitions:** Each state will have a probability defining the likelyhood of transitioning to a different state. An example is the following: *a cold day has a 30% chance of being followed by a hot day and a 70% chance of being follwed by another cold day.*\n",
    "\n",
    "To create a hidden markov model we need.\n",
    "- States\n",
    "- Observation Distribution\n",
    "- Transition Distribution\n",
    "\n",
    "For our purpose we will assume we already have this information available as we attempt to predict the weather on a given day."
   ]
  },
  {
   "cell_type": "markdown",
   "id": "ab6f37c5",
   "metadata": {
    "papermill": {
     "duration": 0.015318,
     "end_time": "2022-09-02T06:22:58.836820",
     "exception": false,
     "start_time": "2022-09-02T06:22:58.821502",
     "status": "completed"
    },
    "tags": []
   },
   "source": [
    "### Weather Model\n",
    "Taken direclty from the TensorFlow documentation (https://www.tensorflow.org/probability/api_docs/python/tfp/distributions/HiddenMarkovModel). \n",
    "\n",
    "We will model a simple weather system and try to predict the temperature on each day given the following information.\n",
    "1. Cold days are encoded by a 0 and hot days are encoded by a 1.\n",
    "2. The first day in our sequence has an 80% chance of being cold.\n",
    "3. A cold day has a 30% chance of being followed by a hot day.\n",
    "4. A hot day has a 20% chance of being followed by a cold day.\n",
    "5. On each day the temperature is\n",
    " normally distributed with mean and standard deviation 0 and 5 on\n",
    " a cold day and mean and standard deviation 15 and 10 on a hot day.\n",
    "\n",
    "If you're unfamiliar with **standard deviation** it can be put simply as the range of expected values. \n",
    "\n",
    "In this example, on a hot day the average temperature is 15 and ranges from 5 to 25.\n",
    "\n",
    "To model this in TensorFlow we will do the following.\n"
   ]
  },
  {
   "cell_type": "code",
   "execution_count": 36,
   "id": "0ec751be",
   "metadata": {
    "execution": {
     "iopub.execute_input": "2022-09-02T06:22:58.868902Z",
     "iopub.status.busy": "2022-09-02T06:22:58.868459Z",
     "iopub.status.idle": "2022-09-02T06:23:00.875663Z",
     "shell.execute_reply": "2022-09-02T06:23:00.873930Z"
    },
    "papermill": {
     "duration": 2.026845,
     "end_time": "2022-09-02T06:23:00.878987",
     "exception": false,
     "start_time": "2022-09-02T06:22:58.852142",
     "status": "completed"
    },
    "tags": []
   },
   "outputs": [],
   "source": [
    "import tensorflow_probability as tfp\n",
    "tfd = tfp.distributions  # making a shortcut for later on\n",
    "initial_distribution = tfd.Categorical(probs=[0.8, 0.2])  # Refer to point 2 above\n",
    "transition_distribution = tfd.Categorical(probs=[[0.7, 0.3],\n",
    "                                                 [0.2, 0.8]])  # refer to points 3 and 4 above\n",
    "observation_distribution = tfd.Normal(loc=[0., 15.], scale=[5., 10.])  # refer to point 5 above\n",
    "\n",
    "# the loc argument represents the mean and the scale is the standard devitation"
   ]
  },
  {
   "cell_type": "code",
   "execution_count": 37,
   "id": "56f6ccd8",
   "metadata": {
    "execution": {
     "iopub.execute_input": "2022-09-02T06:23:00.916678Z",
     "iopub.status.busy": "2022-09-02T06:23:00.915865Z",
     "iopub.status.idle": "2022-09-02T06:23:00.924327Z",
     "shell.execute_reply": "2022-09-02T06:23:00.923282Z"
    },
    "papermill": {
     "duration": 0.031504,
     "end_time": "2022-09-02T06:23:00.927720",
     "exception": false,
     "start_time": "2022-09-02T06:23:00.896216",
     "status": "completed"
    },
    "tags": []
   },
   "outputs": [],
   "source": [
    "model = tfd.HiddenMarkovModel(\n",
    "    initial_distribution=initial_distribution,\n",
    "    transition_distribution=transition_distribution,\n",
    "    observation_distribution=observation_distribution,\n",
    "    num_steps=7)"
   ]
  },
  {
   "cell_type": "markdown",
   "id": "2c66d3e9",
   "metadata": {
    "papermill": {
     "duration": 0.015046,
     "end_time": "2022-09-02T06:23:00.958892",
     "exception": false,
     "start_time": "2022-09-02T06:23:00.943846",
     "status": "completed"
    },
    "tags": []
   },
   "source": [
    "The number of steps represents the number of days that we would like to predict information for. In this case we've chosen 7, an entire week.\n",
    "\n",
    "To get the **expected temperatures** on each day we can do the following."
   ]
  },
  {
   "cell_type": "code",
   "execution_count": 38,
   "id": "db3656a8",
   "metadata": {
    "execution": {
     "iopub.execute_input": "2022-09-02T06:23:00.992029Z",
     "iopub.status.busy": "2022-09-02T06:23:00.991597Z",
     "iopub.status.idle": "2022-09-02T06:23:01.082074Z",
     "shell.execute_reply": "2022-09-02T06:23:01.080713Z"
    },
    "papermill": {
     "duration": 0.110801,
     "end_time": "2022-09-02T06:23:01.084666",
     "exception": false,
     "start_time": "2022-09-02T06:23:00.973865",
     "status": "completed"
    },
    "tags": []
   },
   "outputs": [
    {
     "data": {
      "text/plain": [
       "<tf.Tensor: shape=(7,), dtype=float32, numpy=\n",
       "array([2.9999998, 5.9999995, 7.4999995, 8.25     , 8.625001 , 8.812501 ,\n",
       "       8.90625  ], dtype=float32)>"
      ]
     },
     "execution_count": 38,
     "metadata": {},
     "output_type": "execute_result"
    }
   ],
   "source": [
    "model.mean()"
   ]
  },
  {
   "cell_type": "code",
   "execution_count": 39,
   "id": "22df721e",
   "metadata": {
    "execution": {
     "iopub.execute_input": "2022-09-02T06:23:01.116546Z",
     "iopub.status.busy": "2022-09-02T06:23:01.116146Z",
     "iopub.status.idle": "2022-09-02T06:23:01.147523Z",
     "shell.execute_reply": "2022-09-02T06:23:01.146216Z"
    },
    "papermill": {
     "duration": 0.051071,
     "end_time": "2022-09-02T06:23:01.150638",
     "exception": false,
     "start_time": "2022-09-02T06:23:01.099567",
     "status": "completed"
    },
    "tags": []
   },
   "outputs": [
    {
     "name": "stdout",
     "output_type": "stream",
     "text": [
      "[2.9999998 5.9999995 7.4999995 8.25      8.625001  8.812501  8.90625  ]\n"
     ]
    }
   ],
   "source": [
    "mean = model.mean()\n",
    "\n",
    "# due to the way TensorFlow works on a lower level we need to evaluate part of the graph\n",
    "# from within a session to see the value of this tensor\n",
    "\n",
    "# in the new version of tensorflow we need to use tf.compat.v1.Session() rather than just tf.Session()\n",
    "with tf.compat.v1.Session() as sess:  \n",
    "    print(mean.numpy())"
   ]
  },
  {
   "cell_type": "code",
   "execution_count": null,
   "id": "00548773",
   "metadata": {
    "papermill": {
     "duration": 0.015227,
     "end_time": "2022-09-02T06:23:01.186453",
     "exception": false,
     "start_time": "2022-09-02T06:23:01.171226",
     "status": "completed"
    },
    "tags": []
   },
   "outputs": [],
   "source": []
  },
  {
   "cell_type": "code",
   "execution_count": null,
   "id": "c3056c55",
   "metadata": {
    "papermill": {
     "duration": 0.014446,
     "end_time": "2022-09-02T06:23:01.216479",
     "exception": false,
     "start_time": "2022-09-02T06:23:01.202033",
     "status": "completed"
    },
    "tags": []
   },
   "outputs": [],
   "source": []
  }
 ],
 "metadata": {
  "kernelspec": {
   "display_name": "Python 3",
   "language": "python",
   "name": "python3"
  },
  "language_info": {
   "codemirror_mode": {
    "name": "ipython",
    "version": 3
   },
   "file_extension": ".py",
   "mimetype": "text/x-python",
   "name": "python",
   "nbconvert_exporter": "python",
   "pygments_lexer": "ipython3",
   "version": "3.7.12"
  },
  "papermill": {
   "default_parameters": {},
   "duration": 53.243232,
   "end_time": "2022-09-02T06:23:04.608910",
   "environment_variables": {},
   "exception": null,
   "input_path": "__notebook__.ipynb",
   "output_path": "__notebook__.ipynb",
   "parameters": {},
   "start_time": "2022-09-02T06:22:11.365678",
   "version": "2.3.4"
  }
 },
 "nbformat": 4,
 "nbformat_minor": 5
}
